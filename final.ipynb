{
 "cells": [
  {
   "cell_type": "code",
   "execution_count": 146,
   "metadata": {},
   "outputs": [],
   "source": [
    "import pandas as pd\n",
    "import numpy as np\n",
    "import matplotlib.pyplot as plt\n",
    "import seaborn as sns\n",
    "import re\n",
    "import string\n",
    "import nltk\n",
    "import tqdm \n",
    "import optuna\n",
    "import joblib\n",
    "\n",
    "# Preprocessing\n",
    "from nltk.corpus import stopwords\n",
    "from nltk.corpus import wordnet\n",
    "from nltk.stem import WordNetLemmatizer\n",
    "from nltk.tokenize import word_tokenize\n",
    "\n",
    "from sklearn.model_selection import train_test_split\n",
    "from sklearn.model_selection import StratifiedKFold\n",
    "from sklearn.model_selection import cross_val_score\n",
    "from sklearn.model_selection import cross_validate\n",
    "from tqdm import tqdm\n",
    "from sklearn.feature_extraction.text import TfidfVectorizer\n",
    "from sklearn.pipeline import Pipeline\n",
    "from sklearn.pipeline import make_pipeline\n",
    "from sklearn.svm import SVC\n",
    "from sklearn.naive_bayes import MultinomialNB\n",
    "from sklearn.linear_model import LogisticRegression\n",
    "from sklearn.neighbors import KNeighborsClassifier\n",
    "from sklearn.tree import DecisionTreeClassifier\n",
    "from sklearn.ensemble import RandomForestClassifier\n",
    "from sklearn.ensemble import GradientBoostingClassifier\n",
    "from xgboost import XGBClassifier\n",
    "\n",
    "from sklearn.model_selection import KFold\n",
    "from sklearn.metrics import accuracy_score, precision_score, recall_score, f1_score\n",
    "from sklearn.model_selection import GridSearchCV\n",
    "from sklearn.metrics import classification_report\n",
    "from sklearn.metrics import confusion_matrix\n",
    "from sklearn.preprocessing import StandardScaler, LabelEncoder\n",
    "from sklearn.impute import SimpleImputer\n",
    "import numpy as np\n",
    "import category_encoders as ce\n",
    "from sklearn.preprocessing import OneHotEncoder\n"
   ]
  },
  {
   "cell_type": "code",
   "execution_count": 147,
   "metadata": {},
   "outputs": [],
   "source": [
    "orders = pd.read_csv('olist_orders_dataset.csv')\n",
    "order_payments = pd.read_csv('olist_order_payments_dataset.csv')\n",
    "order_items = pd.read_csv('olist_order_items_dataset.csv')\n",
    "products = pd.read_csv('olist_products_dataset.csv')\n",
    "sellers = pd.read_csv('olist_sellers_dataset.csv')\n",
    "customers = pd.read_csv('olist_customers_dataset.csv')\n",
    "order_reviews = pd.read_csv('olist_order_reviews_dataset.csv')\n",
    "order_reviews\n",
    "# Merge the datasets based on the order_id column\n",
    "merged = orders.merge(order_payments, on='order_id')\n",
    "merged = merged.merge(order_items, on='order_id')\n",
    "merged = merged.merge(products, on='product_id')\n",
    "merged = merged.merge(sellers, on='seller_id')\n",
    "merged = merged.merge(customers, on='customer_id')\n",
    "merged = merged.merge(order_reviews, on='order_id')"
   ]
  },
  {
   "cell_type": "code",
   "execution_count": 148,
   "metadata": {},
   "outputs": [
    {
     "data": {
      "text/plain": [
       "Index(['order_id', 'customer_id', 'order_status', 'order_purchase_timestamp',\n",
       "       'order_approved_at', 'order_delivered_carrier_date',\n",
       "       'order_delivered_customer_date', 'order_estimated_delivery_date',\n",
       "       'payment_sequential', 'payment_type', 'payment_installments',\n",
       "       'payment_value', 'order_item_id', 'product_id', 'seller_id',\n",
       "       'shipping_limit_date', 'price', 'freight_value',\n",
       "       'product_category_name', 'product_name_lenght',\n",
       "       'product_description_lenght', 'product_photos_qty', 'product_weight_g',\n",
       "       'product_length_cm', 'product_height_cm', 'product_width_cm',\n",
       "       'seller_zip_code_prefix', 'seller_city', 'seller_state',\n",
       "       'customer_unique_id', 'customer_zip_code_prefix', 'customer_city',\n",
       "       'customer_state', 'review_id', 'review_score', 'review_comment_title',\n",
       "       'review_comment_message', 'review_creation_date',\n",
       "       'review_answer_timestamp'],\n",
       "      dtype='object')"
      ]
     },
     "execution_count": 148,
     "metadata": {},
     "output_type": "execute_result"
    }
   ],
   "source": [
    "merged.columns"
   ]
  },
  {
   "cell_type": "code",
   "execution_count": 149,
   "metadata": {},
   "outputs": [
    {
     "name": "stdout",
     "output_type": "stream",
     "text": [
      "<class 'pandas.core.frame.DataFrame'>\n",
      "Int64Index: 117329 entries, 0 to 117328\n",
      "Data columns (total 10 columns):\n",
      " #   Column                 Non-Null Count   Dtype  \n",
      "---  ------                 --------------   -----  \n",
      " 0   price                  117329 non-null  float64\n",
      " 1   payment_type           117329 non-null  object \n",
      " 2   payment_value          117329 non-null  float64\n",
      " 3   product_category_name  115634 non-null  object \n",
      " 4   product_weight_g       117309 non-null  float64\n",
      " 5   product_height_cm      117309 non-null  float64\n",
      " 6   seller_state           117329 non-null  object \n",
      " 7   customer_state         117329 non-null  object \n",
      " 8   payment_installments   117329 non-null  int64  \n",
      " 9   freight_value          117329 non-null  float64\n",
      "dtypes: float64(5), int64(1), object(4)\n",
      "memory usage: 9.8+ MB\n"
     ]
    }
   ],
   "source": [
    "# Extract the relevant features from the merged dataset\n",
    "merged_features = merged[['price','payment_type', 'payment_value', 'product_category_name',\n",
    "                     'product_weight_g', 'product_height_cm', \n",
    "                     'seller_state', 'customer_state', 'payment_installments','freight_value']]\n",
    "\n",
    "\n",
    "\n",
    "merged_features.info()"
   ]
  },
  {
   "cell_type": "code",
   "execution_count": 150,
   "metadata": {},
   "outputs": [],
   "source": [
    "merged_features = merged_features.dropna()"
   ]
  },
  {
   "cell_type": "code",
   "execution_count": 151,
   "metadata": {},
   "outputs": [
    {
     "name": "stdout",
     "output_type": "stream",
     "text": [
      "<class 'pandas.core.frame.DataFrame'>\n",
      "Int64Index: 115633 entries, 0 to 117328\n",
      "Data columns (total 10 columns):\n",
      " #   Column                 Non-Null Count   Dtype  \n",
      "---  ------                 --------------   -----  \n",
      " 0   price                  115633 non-null  float64\n",
      " 1   payment_type           115633 non-null  object \n",
      " 2   payment_value          115633 non-null  float64\n",
      " 3   product_category_name  115633 non-null  object \n",
      " 4   product_weight_g       115633 non-null  float64\n",
      " 5   product_height_cm      115633 non-null  float64\n",
      " 6   seller_state           115633 non-null  object \n",
      " 7   customer_state         115633 non-null  object \n",
      " 8   payment_installments   115633 non-null  int64  \n",
      " 9   freight_value          115633 non-null  float64\n",
      "dtypes: float64(5), int64(1), object(4)\n",
      "memory usage: 9.7+ MB\n"
     ]
    }
   ],
   "source": [
    "merged_features.info()"
   ]
  },
  {
   "cell_type": "code",
   "execution_count": 152,
   "metadata": {},
   "outputs": [],
   "source": [
    "# Handle missing values\n",
    "## very less data is missing so we are removing the data\n",
    "#imputer = SimpleImputer(strategy='mean')\n",
    "#merged_features[['payment_value', 'product_weight_g',  'product_height_cm']] = imputer.fit_transform(merged_features[['payment_value', 'product_weight_g', 'product_height_cm', 'product_width_cm']])\n",
    "\n",
    "# Encode categorical variables\n",
    "cat_features = [ 'product_category_name', 'seller_state', 'customer_state']\n",
    "le = LabelEncoder()\n",
    "\n",
    "tenc=ce.TargetEncoder() \n",
    "product_cat = tenc.fit_transform(merged_features[cat_features],merged_features['payment_installments'])\n"
   ]
  },
  {
   "cell_type": "code",
   "execution_count": 153,
   "metadata": {},
   "outputs": [
    {
     "data": {
      "text/html": [
       "<div>\n",
       "<style scoped>\n",
       "    .dataframe tbody tr th:only-of-type {\n",
       "        vertical-align: middle;\n",
       "    }\n",
       "\n",
       "    .dataframe tbody tr th {\n",
       "        vertical-align: top;\n",
       "    }\n",
       "\n",
       "    .dataframe thead th {\n",
       "        text-align: right;\n",
       "    }\n",
       "</style>\n",
       "<table border=\"1\" class=\"dataframe\">\n",
       "  <thead>\n",
       "    <tr style=\"text-align: right;\">\n",
       "      <th></th>\n",
       "      <th>price</th>\n",
       "      <th>payment_type</th>\n",
       "      <th>payment_value</th>\n",
       "      <th>product_weight_g</th>\n",
       "      <th>product_height_cm</th>\n",
       "      <th>payment_installments</th>\n",
       "      <th>freight_value</th>\n",
       "      <th>product_category_name</th>\n",
       "      <th>seller_state</th>\n",
       "      <th>customer_state</th>\n",
       "    </tr>\n",
       "  </thead>\n",
       "  <tbody>\n",
       "    <tr>\n",
       "      <th>0</th>\n",
       "      <td>29.99</td>\n",
       "      <td>credit_card</td>\n",
       "      <td>18.12</td>\n",
       "      <td>500.0</td>\n",
       "      <td>8.0</td>\n",
       "      <td>1</td>\n",
       "      <td>8.72</td>\n",
       "      <td>2.972719</td>\n",
       "      <td>2.883846</td>\n",
       "      <td>2.717388</td>\n",
       "    </tr>\n",
       "    <tr>\n",
       "      <th>1</th>\n",
       "      <td>29.99</td>\n",
       "      <td>voucher</td>\n",
       "      <td>2.00</td>\n",
       "      <td>500.0</td>\n",
       "      <td>8.0</td>\n",
       "      <td>1</td>\n",
       "      <td>8.72</td>\n",
       "      <td>2.972719</td>\n",
       "      <td>2.883846</td>\n",
       "      <td>2.717388</td>\n",
       "    </tr>\n",
       "    <tr>\n",
       "      <th>2</th>\n",
       "      <td>29.99</td>\n",
       "      <td>voucher</td>\n",
       "      <td>18.59</td>\n",
       "      <td>500.0</td>\n",
       "      <td>8.0</td>\n",
       "      <td>1</td>\n",
       "      <td>8.72</td>\n",
       "      <td>2.972719</td>\n",
       "      <td>2.883846</td>\n",
       "      <td>2.717388</td>\n",
       "    </tr>\n",
       "    <tr>\n",
       "      <th>3</th>\n",
       "      <td>29.99</td>\n",
       "      <td>credit_card</td>\n",
       "      <td>37.77</td>\n",
       "      <td>500.0</td>\n",
       "      <td>8.0</td>\n",
       "      <td>3</td>\n",
       "      <td>7.78</td>\n",
       "      <td>2.972719</td>\n",
       "      <td>2.883846</td>\n",
       "      <td>2.717388</td>\n",
       "    </tr>\n",
       "    <tr>\n",
       "      <th>4</th>\n",
       "      <td>29.99</td>\n",
       "      <td>credit_card</td>\n",
       "      <td>37.77</td>\n",
       "      <td>500.0</td>\n",
       "      <td>8.0</td>\n",
       "      <td>1</td>\n",
       "      <td>7.78</td>\n",
       "      <td>2.972719</td>\n",
       "      <td>2.883846</td>\n",
       "      <td>2.717388</td>\n",
       "    </tr>\n",
       "    <tr>\n",
       "      <th>...</th>\n",
       "      <td>...</td>\n",
       "      <td>...</td>\n",
       "      <td>...</td>\n",
       "      <td>...</td>\n",
       "      <td>...</td>\n",
       "      <td>...</td>\n",
       "      <td>...</td>\n",
       "      <td>...</td>\n",
       "      <td>...</td>\n",
       "      <td>...</td>\n",
       "    </tr>\n",
       "    <tr>\n",
       "      <th>117324</th>\n",
       "      <td>79.00</td>\n",
       "      <td>boleto</td>\n",
       "      <td>93.13</td>\n",
       "      <td>750.0</td>\n",
       "      <td>28.0</td>\n",
       "      <td>1</td>\n",
       "      <td>14.13</td>\n",
       "      <td>2.934426</td>\n",
       "      <td>2.883846</td>\n",
       "      <td>2.717388</td>\n",
       "    </tr>\n",
       "    <tr>\n",
       "      <th>117325</th>\n",
       "      <td>19.70</td>\n",
       "      <td>credit_card</td>\n",
       "      <td>30.66</td>\n",
       "      <td>400.0</td>\n",
       "      <td>4.0</td>\n",
       "      <td>1</td>\n",
       "      <td>10.96</td>\n",
       "      <td>2.887282</td>\n",
       "      <td>3.354892</td>\n",
       "      <td>2.963727</td>\n",
       "    </tr>\n",
       "    <tr>\n",
       "      <th>117326</th>\n",
       "      <td>399.00</td>\n",
       "      <td>debit_card</td>\n",
       "      <td>444.07</td>\n",
       "      <td>2100.0</td>\n",
       "      <td>8.0</td>\n",
       "      <td>1</td>\n",
       "      <td>45.07</td>\n",
       "      <td>3.125357</td>\n",
       "      <td>2.883846</td>\n",
       "      <td>3.625409</td>\n",
       "    </tr>\n",
       "    <tr>\n",
       "      <th>117327</th>\n",
       "      <td>219.90</td>\n",
       "      <td>credit_card</td>\n",
       "      <td>244.02</td>\n",
       "      <td>5900.0</td>\n",
       "      <td>21.0</td>\n",
       "      <td>4</td>\n",
       "      <td>24.12</td>\n",
       "      <td>3.125357</td>\n",
       "      <td>2.883846</td>\n",
       "      <td>3.062756</td>\n",
       "    </tr>\n",
       "    <tr>\n",
       "      <th>117328</th>\n",
       "      <td>15.50</td>\n",
       "      <td>boleto</td>\n",
       "      <td>28.29</td>\n",
       "      <td>83.0</td>\n",
       "      <td>8.0</td>\n",
       "      <td>1</td>\n",
       "      <td>12.79</td>\n",
       "      <td>3.196643</td>\n",
       "      <td>2.883846</td>\n",
       "      <td>2.717388</td>\n",
       "    </tr>\n",
       "  </tbody>\n",
       "</table>\n",
       "<p>115633 rows × 10 columns</p>\n",
       "</div>"
      ],
      "text/plain": [
       "         price payment_type  payment_value  product_weight_g  \\\n",
       "0        29.99  credit_card          18.12             500.0   \n",
       "1        29.99      voucher           2.00             500.0   \n",
       "2        29.99      voucher          18.59             500.0   \n",
       "3        29.99  credit_card          37.77             500.0   \n",
       "4        29.99  credit_card          37.77             500.0   \n",
       "...        ...          ...            ...               ...   \n",
       "117324   79.00       boleto          93.13             750.0   \n",
       "117325   19.70  credit_card          30.66             400.0   \n",
       "117326  399.00   debit_card         444.07            2100.0   \n",
       "117327  219.90  credit_card         244.02            5900.0   \n",
       "117328   15.50       boleto          28.29              83.0   \n",
       "\n",
       "        product_height_cm  payment_installments  freight_value  \\\n",
       "0                     8.0                     1           8.72   \n",
       "1                     8.0                     1           8.72   \n",
       "2                     8.0                     1           8.72   \n",
       "3                     8.0                     3           7.78   \n",
       "4                     8.0                     1           7.78   \n",
       "...                   ...                   ...            ...   \n",
       "117324               28.0                     1          14.13   \n",
       "117325                4.0                     1          10.96   \n",
       "117326                8.0                     1          45.07   \n",
       "117327               21.0                     4          24.12   \n",
       "117328                8.0                     1          12.79   \n",
       "\n",
       "        product_category_name  seller_state  customer_state  \n",
       "0                    2.972719      2.883846        2.717388  \n",
       "1                    2.972719      2.883846        2.717388  \n",
       "2                    2.972719      2.883846        2.717388  \n",
       "3                    2.972719      2.883846        2.717388  \n",
       "4                    2.972719      2.883846        2.717388  \n",
       "...                       ...           ...             ...  \n",
       "117324               2.934426      2.883846        2.717388  \n",
       "117325               2.887282      3.354892        2.963727  \n",
       "117326               3.125357      2.883846        3.625409  \n",
       "117327               3.125357      2.883846        3.062756  \n",
       "117328               3.196643      2.883846        2.717388  \n",
       "\n",
       "[115633 rows x 10 columns]"
      ]
     },
     "execution_count": 153,
     "metadata": {},
     "output_type": "execute_result"
    }
   ],
   "source": [
    "merged_features = merged_features.drop(columns=['product_category_name', 'seller_state', 'customer_state'])\n",
    "\n",
    "# Add the one-hot encoded columns to the original DataFrame\n",
    "merged_features = pd.concat([merged_features, product_cat], axis=1)\n",
    "merged_features"
   ]
  },
  {
   "cell_type": "code",
   "execution_count": 154,
   "metadata": {},
   "outputs": [
    {
     "name": "stdout",
     "output_type": "stream",
     "text": [
      "        payment_type_boleto  payment_type_credit_card  \\\n",
      "0                         0                         1   \n",
      "1                         0                         0   \n",
      "2                         0                         0   \n",
      "3                         0                         1   \n",
      "4                         0                         1   \n",
      "...                     ...                       ...   \n",
      "117324                    1                         0   \n",
      "117325                    0                         1   \n",
      "117326                    0                         0   \n",
      "117327                    0                         1   \n",
      "117328                    1                         0   \n",
      "\n",
      "        payment_type_debit_card  payment_type_voucher  \n",
      "0                             0                     0  \n",
      "1                             0                     1  \n",
      "2                             0                     1  \n",
      "3                             0                     0  \n",
      "4                             0                     0  \n",
      "...                         ...                   ...  \n",
      "117324                        0                     0  \n",
      "117325                        0                     0  \n",
      "117326                        1                     0  \n",
      "117327                        0                     0  \n",
      "117328                        0                     0  \n",
      "\n",
      "[115633 rows x 4 columns]\n"
     ]
    }
   ],
   "source": [
    "## handeling one-hot encoding for payment type\n",
    "\n",
    "one_hot = pd.get_dummies(merged_features['payment_type'],prefix='payment_type')\n",
    "print(one_hot)\n",
    "# merged_feature = merged_features.drop('payment_type', axis=1, inplace=True)\n",
    "\n",
    "# # Add the one-hot encoded columns to the original DataFrame\n",
    "# merged_features = pd.concat([merged_features, one_hot], axis=1)\n"
   ]
  },
  {
   "cell_type": "code",
   "execution_count": 155,
   "metadata": {},
   "outputs": [],
   "source": [
    "merged_feature = merged_features.drop('payment_type', axis=1, inplace=True)\n",
    "\n",
    "# # Add the one-hot encoded columns to the original DataFrame\n",
    "merged_features = pd.concat([merged_features, one_hot], axis=1)"
   ]
  },
  {
   "cell_type": "code",
   "execution_count": 156,
   "metadata": {},
   "outputs": [
    {
     "data": {
      "text/plain": [
       "Index(['price', 'payment_value', 'product_weight_g', 'product_height_cm',\n",
       "       'payment_installments', 'freight_value', 'product_category_name',\n",
       "       'seller_state', 'customer_state', 'payment_type_boleto',\n",
       "       'payment_type_credit_card', 'payment_type_debit_card',\n",
       "       'payment_type_voucher'],\n",
       "      dtype='object')"
      ]
     },
     "execution_count": 156,
     "metadata": {},
     "output_type": "execute_result"
    }
   ],
   "source": [
    "merged_features.columns"
   ]
  },
  {
   "cell_type": "code",
   "execution_count": 157,
   "metadata": {},
   "outputs": [],
   "source": [
    "final_df = merged_features"
   ]
  },
  {
   "cell_type": "code",
   "execution_count": 158,
   "metadata": {},
   "outputs": [
    {
     "data": {
      "text/html": [
       "<div>\n",
       "<style scoped>\n",
       "    .dataframe tbody tr th:only-of-type {\n",
       "        vertical-align: middle;\n",
       "    }\n",
       "\n",
       "    .dataframe tbody tr th {\n",
       "        vertical-align: top;\n",
       "    }\n",
       "\n",
       "    .dataframe thead th {\n",
       "        text-align: right;\n",
       "    }\n",
       "</style>\n",
       "<table border=\"1\" class=\"dataframe\">\n",
       "  <thead>\n",
       "    <tr style=\"text-align: right;\">\n",
       "      <th></th>\n",
       "      <th>price</th>\n",
       "      <th>payment_value</th>\n",
       "      <th>product_weight_g</th>\n",
       "      <th>product_height_cm</th>\n",
       "      <th>payment_installments</th>\n",
       "      <th>freight_value</th>\n",
       "      <th>product_category_name</th>\n",
       "      <th>seller_state</th>\n",
       "      <th>customer_state</th>\n",
       "      <th>payment_type_boleto</th>\n",
       "      <th>payment_type_credit_card</th>\n",
       "      <th>payment_type_debit_card</th>\n",
       "      <th>payment_type_voucher</th>\n",
       "    </tr>\n",
       "  </thead>\n",
       "  <tbody>\n",
       "    <tr>\n",
       "      <th>0</th>\n",
       "      <td>29.99</td>\n",
       "      <td>18.12</td>\n",
       "      <td>500.0</td>\n",
       "      <td>8.0</td>\n",
       "      <td>1</td>\n",
       "      <td>8.72</td>\n",
       "      <td>2.972719</td>\n",
       "      <td>2.883846</td>\n",
       "      <td>2.717388</td>\n",
       "      <td>0</td>\n",
       "      <td>1</td>\n",
       "      <td>0</td>\n",
       "      <td>0</td>\n",
       "    </tr>\n",
       "    <tr>\n",
       "      <th>1</th>\n",
       "      <td>29.99</td>\n",
       "      <td>2.00</td>\n",
       "      <td>500.0</td>\n",
       "      <td>8.0</td>\n",
       "      <td>1</td>\n",
       "      <td>8.72</td>\n",
       "      <td>2.972719</td>\n",
       "      <td>2.883846</td>\n",
       "      <td>2.717388</td>\n",
       "      <td>0</td>\n",
       "      <td>0</td>\n",
       "      <td>0</td>\n",
       "      <td>1</td>\n",
       "    </tr>\n",
       "    <tr>\n",
       "      <th>2</th>\n",
       "      <td>29.99</td>\n",
       "      <td>18.59</td>\n",
       "      <td>500.0</td>\n",
       "      <td>8.0</td>\n",
       "      <td>1</td>\n",
       "      <td>8.72</td>\n",
       "      <td>2.972719</td>\n",
       "      <td>2.883846</td>\n",
       "      <td>2.717388</td>\n",
       "      <td>0</td>\n",
       "      <td>0</td>\n",
       "      <td>0</td>\n",
       "      <td>1</td>\n",
       "    </tr>\n",
       "    <tr>\n",
       "      <th>3</th>\n",
       "      <td>29.99</td>\n",
       "      <td>37.77</td>\n",
       "      <td>500.0</td>\n",
       "      <td>8.0</td>\n",
       "      <td>3</td>\n",
       "      <td>7.78</td>\n",
       "      <td>2.972719</td>\n",
       "      <td>2.883846</td>\n",
       "      <td>2.717388</td>\n",
       "      <td>0</td>\n",
       "      <td>1</td>\n",
       "      <td>0</td>\n",
       "      <td>0</td>\n",
       "    </tr>\n",
       "    <tr>\n",
       "      <th>4</th>\n",
       "      <td>29.99</td>\n",
       "      <td>37.77</td>\n",
       "      <td>500.0</td>\n",
       "      <td>8.0</td>\n",
       "      <td>1</td>\n",
       "      <td>7.78</td>\n",
       "      <td>2.972719</td>\n",
       "      <td>2.883846</td>\n",
       "      <td>2.717388</td>\n",
       "      <td>0</td>\n",
       "      <td>1</td>\n",
       "      <td>0</td>\n",
       "      <td>0</td>\n",
       "    </tr>\n",
       "    <tr>\n",
       "      <th>...</th>\n",
       "      <td>...</td>\n",
       "      <td>...</td>\n",
       "      <td>...</td>\n",
       "      <td>...</td>\n",
       "      <td>...</td>\n",
       "      <td>...</td>\n",
       "      <td>...</td>\n",
       "      <td>...</td>\n",
       "      <td>...</td>\n",
       "      <td>...</td>\n",
       "      <td>...</td>\n",
       "      <td>...</td>\n",
       "      <td>...</td>\n",
       "    </tr>\n",
       "    <tr>\n",
       "      <th>117324</th>\n",
       "      <td>79.00</td>\n",
       "      <td>93.13</td>\n",
       "      <td>750.0</td>\n",
       "      <td>28.0</td>\n",
       "      <td>1</td>\n",
       "      <td>14.13</td>\n",
       "      <td>2.934426</td>\n",
       "      <td>2.883846</td>\n",
       "      <td>2.717388</td>\n",
       "      <td>1</td>\n",
       "      <td>0</td>\n",
       "      <td>0</td>\n",
       "      <td>0</td>\n",
       "    </tr>\n",
       "    <tr>\n",
       "      <th>117325</th>\n",
       "      <td>19.70</td>\n",
       "      <td>30.66</td>\n",
       "      <td>400.0</td>\n",
       "      <td>4.0</td>\n",
       "      <td>1</td>\n",
       "      <td>10.96</td>\n",
       "      <td>2.887282</td>\n",
       "      <td>3.354892</td>\n",
       "      <td>2.963727</td>\n",
       "      <td>0</td>\n",
       "      <td>1</td>\n",
       "      <td>0</td>\n",
       "      <td>0</td>\n",
       "    </tr>\n",
       "    <tr>\n",
       "      <th>117326</th>\n",
       "      <td>399.00</td>\n",
       "      <td>444.07</td>\n",
       "      <td>2100.0</td>\n",
       "      <td>8.0</td>\n",
       "      <td>1</td>\n",
       "      <td>45.07</td>\n",
       "      <td>3.125357</td>\n",
       "      <td>2.883846</td>\n",
       "      <td>3.625409</td>\n",
       "      <td>0</td>\n",
       "      <td>0</td>\n",
       "      <td>1</td>\n",
       "      <td>0</td>\n",
       "    </tr>\n",
       "    <tr>\n",
       "      <th>117327</th>\n",
       "      <td>219.90</td>\n",
       "      <td>244.02</td>\n",
       "      <td>5900.0</td>\n",
       "      <td>21.0</td>\n",
       "      <td>4</td>\n",
       "      <td>24.12</td>\n",
       "      <td>3.125357</td>\n",
       "      <td>2.883846</td>\n",
       "      <td>3.062756</td>\n",
       "      <td>0</td>\n",
       "      <td>1</td>\n",
       "      <td>0</td>\n",
       "      <td>0</td>\n",
       "    </tr>\n",
       "    <tr>\n",
       "      <th>117328</th>\n",
       "      <td>15.50</td>\n",
       "      <td>28.29</td>\n",
       "      <td>83.0</td>\n",
       "      <td>8.0</td>\n",
       "      <td>1</td>\n",
       "      <td>12.79</td>\n",
       "      <td>3.196643</td>\n",
       "      <td>2.883846</td>\n",
       "      <td>2.717388</td>\n",
       "      <td>1</td>\n",
       "      <td>0</td>\n",
       "      <td>0</td>\n",
       "      <td>0</td>\n",
       "    </tr>\n",
       "  </tbody>\n",
       "</table>\n",
       "<p>115633 rows × 13 columns</p>\n",
       "</div>"
      ],
      "text/plain": [
       "         price  payment_value  product_weight_g  product_height_cm  \\\n",
       "0        29.99          18.12             500.0                8.0   \n",
       "1        29.99           2.00             500.0                8.0   \n",
       "2        29.99          18.59             500.0                8.0   \n",
       "3        29.99          37.77             500.0                8.0   \n",
       "4        29.99          37.77             500.0                8.0   \n",
       "...        ...            ...               ...                ...   \n",
       "117324   79.00          93.13             750.0               28.0   \n",
       "117325   19.70          30.66             400.0                4.0   \n",
       "117326  399.00         444.07            2100.0                8.0   \n",
       "117327  219.90         244.02            5900.0               21.0   \n",
       "117328   15.50          28.29              83.0                8.0   \n",
       "\n",
       "        payment_installments  freight_value  product_category_name  \\\n",
       "0                          1           8.72               2.972719   \n",
       "1                          1           8.72               2.972719   \n",
       "2                          1           8.72               2.972719   \n",
       "3                          3           7.78               2.972719   \n",
       "4                          1           7.78               2.972719   \n",
       "...                      ...            ...                    ...   \n",
       "117324                     1          14.13               2.934426   \n",
       "117325                     1          10.96               2.887282   \n",
       "117326                     1          45.07               3.125357   \n",
       "117327                     4          24.12               3.125357   \n",
       "117328                     1          12.79               3.196643   \n",
       "\n",
       "        seller_state  customer_state  payment_type_boleto  \\\n",
       "0           2.883846        2.717388                    0   \n",
       "1           2.883846        2.717388                    0   \n",
       "2           2.883846        2.717388                    0   \n",
       "3           2.883846        2.717388                    0   \n",
       "4           2.883846        2.717388                    0   \n",
       "...              ...             ...                  ...   \n",
       "117324      2.883846        2.717388                    1   \n",
       "117325      3.354892        2.963727                    0   \n",
       "117326      2.883846        3.625409                    0   \n",
       "117327      2.883846        3.062756                    0   \n",
       "117328      2.883846        2.717388                    1   \n",
       "\n",
       "        payment_type_credit_card  payment_type_debit_card  \\\n",
       "0                              1                        0   \n",
       "1                              0                        0   \n",
       "2                              0                        0   \n",
       "3                              1                        0   \n",
       "4                              1                        0   \n",
       "...                          ...                      ...   \n",
       "117324                         0                        0   \n",
       "117325                         1                        0   \n",
       "117326                         0                        1   \n",
       "117327                         1                        0   \n",
       "117328                         0                        0   \n",
       "\n",
       "        payment_type_voucher  \n",
       "0                          0  \n",
       "1                          1  \n",
       "2                          1  \n",
       "3                          0  \n",
       "4                          0  \n",
       "...                      ...  \n",
       "117324                     0  \n",
       "117325                     0  \n",
       "117326                     0  \n",
       "117327                     0  \n",
       "117328                     0  \n",
       "\n",
       "[115633 rows x 13 columns]"
      ]
     },
     "execution_count": 158,
     "metadata": {},
     "output_type": "execute_result"
    }
   ],
   "source": [
    "final_df"
   ]
  },
  {
   "cell_type": "code",
   "execution_count": null,
   "metadata": {},
   "outputs": [],
   "source": []
  },
  {
   "cell_type": "code",
   "execution_count": 159,
   "metadata": {},
   "outputs": [],
   "source": [
    "# Scale numerical variables\n",
    "#'price', 'payment_value', 'product_weight_g', 'product_height_cm','payment_installments', 'freight_value', 'product_category_name',\n",
    "#       'seller_state', 'customer_state', 'payment_type_boleto',\n",
    "#       'payment_type_credit_card', 'payment_type_debit_card','payment_type_voucher'\n",
    "num_features = ['payment_value',  'product_weight_g',  'freight_value',\n",
    "                'product_height_cm', 'seller_state', 'customer_state', 'product_category_name']\n",
    "scaler = StandardScaler()\n",
    "merged_features[num_features] = scaler.fit_transform(merged_features[num_features])\n"
   ]
  },
  {
   "cell_type": "code",
   "execution_count": 160,
   "metadata": {},
   "outputs": [],
   "source": [
    "final_df = merged_features"
   ]
  },
  {
   "cell_type": "code",
   "execution_count": 161,
   "metadata": {},
   "outputs": [
    {
     "data": {
      "text/html": [
       "<div>\n",
       "<style scoped>\n",
       "    .dataframe tbody tr th:only-of-type {\n",
       "        vertical-align: middle;\n",
       "    }\n",
       "\n",
       "    .dataframe tbody tr th {\n",
       "        vertical-align: top;\n",
       "    }\n",
       "\n",
       "    .dataframe thead th {\n",
       "        text-align: right;\n",
       "    }\n",
       "</style>\n",
       "<table border=\"1\" class=\"dataframe\">\n",
       "  <thead>\n",
       "    <tr style=\"text-align: right;\">\n",
       "      <th></th>\n",
       "      <th>price</th>\n",
       "      <th>payment_value</th>\n",
       "      <th>product_weight_g</th>\n",
       "      <th>product_height_cm</th>\n",
       "      <th>payment_installments</th>\n",
       "      <th>freight_value</th>\n",
       "      <th>product_category_name</th>\n",
       "      <th>seller_state</th>\n",
       "      <th>customer_state</th>\n",
       "      <th>payment_type_boleto</th>\n",
       "      <th>payment_type_credit_card</th>\n",
       "      <th>payment_type_debit_card</th>\n",
       "      <th>payment_type_voucher</th>\n",
       "    </tr>\n",
       "  </thead>\n",
       "  <tbody>\n",
       "    <tr>\n",
       "      <th>0</th>\n",
       "      <td>29.99</td>\n",
       "      <td>-0.580315</td>\n",
       "      <td>-0.426808</td>\n",
       "      <td>-0.641280</td>\n",
       "      <td>1</td>\n",
       "      <td>-0.715900</td>\n",
       "      <td>0.050805</td>\n",
       "      <td>-0.369792</td>\n",
       "      <td>-0.935604</td>\n",
       "      <td>0</td>\n",
       "      <td>1</td>\n",
       "      <td>0</td>\n",
       "      <td>0</td>\n",
       "    </tr>\n",
       "    <tr>\n",
       "      <th>1</th>\n",
       "      <td>29.99</td>\n",
       "      <td>-0.640953</td>\n",
       "      <td>-0.426808</td>\n",
       "      <td>-0.641280</td>\n",
       "      <td>1</td>\n",
       "      <td>-0.715900</td>\n",
       "      <td>0.050805</td>\n",
       "      <td>-0.369792</td>\n",
       "      <td>-0.935604</td>\n",
       "      <td>0</td>\n",
       "      <td>0</td>\n",
       "      <td>0</td>\n",
       "      <td>1</td>\n",
       "    </tr>\n",
       "    <tr>\n",
       "      <th>2</th>\n",
       "      <td>29.99</td>\n",
       "      <td>-0.578547</td>\n",
       "      <td>-0.426808</td>\n",
       "      <td>-0.641280</td>\n",
       "      <td>1</td>\n",
       "      <td>-0.715900</td>\n",
       "      <td>0.050805</td>\n",
       "      <td>-0.369792</td>\n",
       "      <td>-0.935604</td>\n",
       "      <td>0</td>\n",
       "      <td>0</td>\n",
       "      <td>0</td>\n",
       "      <td>1</td>\n",
       "    </tr>\n",
       "    <tr>\n",
       "      <th>3</th>\n",
       "      <td>29.99</td>\n",
       "      <td>-0.506398</td>\n",
       "      <td>-0.426808</td>\n",
       "      <td>-0.641280</td>\n",
       "      <td>3</td>\n",
       "      <td>-0.775261</td>\n",
       "      <td>0.050805</td>\n",
       "      <td>-0.369792</td>\n",
       "      <td>-0.935604</td>\n",
       "      <td>0</td>\n",
       "      <td>1</td>\n",
       "      <td>0</td>\n",
       "      <td>0</td>\n",
       "    </tr>\n",
       "    <tr>\n",
       "      <th>4</th>\n",
       "      <td>29.99</td>\n",
       "      <td>-0.506398</td>\n",
       "      <td>-0.426808</td>\n",
       "      <td>-0.641280</td>\n",
       "      <td>1</td>\n",
       "      <td>-0.775261</td>\n",
       "      <td>0.050805</td>\n",
       "      <td>-0.369792</td>\n",
       "      <td>-0.935604</td>\n",
       "      <td>0</td>\n",
       "      <td>1</td>\n",
       "      <td>0</td>\n",
       "      <td>0</td>\n",
       "    </tr>\n",
       "    <tr>\n",
       "      <th>...</th>\n",
       "      <td>...</td>\n",
       "      <td>...</td>\n",
       "      <td>...</td>\n",
       "      <td>...</td>\n",
       "      <td>...</td>\n",
       "      <td>...</td>\n",
       "      <td>...</td>\n",
       "      <td>...</td>\n",
       "      <td>...</td>\n",
       "      <td>...</td>\n",
       "      <td>...</td>\n",
       "      <td>...</td>\n",
       "      <td>...</td>\n",
       "    </tr>\n",
       "    <tr>\n",
       "      <th>117324</th>\n",
       "      <td>79.00</td>\n",
       "      <td>-0.298153</td>\n",
       "      <td>-0.360697</td>\n",
       "      <td>0.843197</td>\n",
       "      <td>1</td>\n",
       "      <td>-0.374257</td>\n",
       "      <td>-0.023393</td>\n",
       "      <td>-0.369792</td>\n",
       "      <td>-0.935604</td>\n",
       "      <td>1</td>\n",
       "      <td>0</td>\n",
       "      <td>0</td>\n",
       "      <td>0</td>\n",
       "    </tr>\n",
       "    <tr>\n",
       "      <th>117325</th>\n",
       "      <td>19.70</td>\n",
       "      <td>-0.533144</td>\n",
       "      <td>-0.453252</td>\n",
       "      <td>-0.938175</td>\n",
       "      <td>1</td>\n",
       "      <td>-0.574443</td>\n",
       "      <td>-0.114743</td>\n",
       "      <td>2.470949</td>\n",
       "      <td>0.072504</td>\n",
       "      <td>0</td>\n",
       "      <td>1</td>\n",
       "      <td>0</td>\n",
       "      <td>0</td>\n",
       "    </tr>\n",
       "    <tr>\n",
       "      <th>117326</th>\n",
       "      <td>399.00</td>\n",
       "      <td>1.021965</td>\n",
       "      <td>-0.003700</td>\n",
       "      <td>-0.641280</td>\n",
       "      <td>1</td>\n",
       "      <td>1.579612</td>\n",
       "      <td>0.346569</td>\n",
       "      <td>-0.369792</td>\n",
       "      <td>2.780352</td>\n",
       "      <td>0</td>\n",
       "      <td>0</td>\n",
       "      <td>1</td>\n",
       "      <td>0</td>\n",
       "    </tr>\n",
       "    <tr>\n",
       "      <th>117327</th>\n",
       "      <td>219.90</td>\n",
       "      <td>0.269444</td>\n",
       "      <td>1.001183</td>\n",
       "      <td>0.323630</td>\n",
       "      <td>4</td>\n",
       "      <td>0.256614</td>\n",
       "      <td>0.346569</td>\n",
       "      <td>-0.369792</td>\n",
       "      <td>0.477767</td>\n",
       "      <td>0</td>\n",
       "      <td>1</td>\n",
       "      <td>0</td>\n",
       "      <td>0</td>\n",
       "    </tr>\n",
       "    <tr>\n",
       "      <th>117328</th>\n",
       "      <td>15.50</td>\n",
       "      <td>-0.542059</td>\n",
       "      <td>-0.537080</td>\n",
       "      <td>-0.641280</td>\n",
       "      <td>1</td>\n",
       "      <td>-0.458878</td>\n",
       "      <td>0.484698</td>\n",
       "      <td>-0.369792</td>\n",
       "      <td>-0.935604</td>\n",
       "      <td>1</td>\n",
       "      <td>0</td>\n",
       "      <td>0</td>\n",
       "      <td>0</td>\n",
       "    </tr>\n",
       "  </tbody>\n",
       "</table>\n",
       "<p>115633 rows × 13 columns</p>\n",
       "</div>"
      ],
      "text/plain": [
       "         price  payment_value  product_weight_g  product_height_cm  \\\n",
       "0        29.99      -0.580315         -0.426808          -0.641280   \n",
       "1        29.99      -0.640953         -0.426808          -0.641280   \n",
       "2        29.99      -0.578547         -0.426808          -0.641280   \n",
       "3        29.99      -0.506398         -0.426808          -0.641280   \n",
       "4        29.99      -0.506398         -0.426808          -0.641280   \n",
       "...        ...            ...               ...                ...   \n",
       "117324   79.00      -0.298153         -0.360697           0.843197   \n",
       "117325   19.70      -0.533144         -0.453252          -0.938175   \n",
       "117326  399.00       1.021965         -0.003700          -0.641280   \n",
       "117327  219.90       0.269444          1.001183           0.323630   \n",
       "117328   15.50      -0.542059         -0.537080          -0.641280   \n",
       "\n",
       "        payment_installments  freight_value  product_category_name  \\\n",
       "0                          1      -0.715900               0.050805   \n",
       "1                          1      -0.715900               0.050805   \n",
       "2                          1      -0.715900               0.050805   \n",
       "3                          3      -0.775261               0.050805   \n",
       "4                          1      -0.775261               0.050805   \n",
       "...                      ...            ...                    ...   \n",
       "117324                     1      -0.374257              -0.023393   \n",
       "117325                     1      -0.574443              -0.114743   \n",
       "117326                     1       1.579612               0.346569   \n",
       "117327                     4       0.256614               0.346569   \n",
       "117328                     1      -0.458878               0.484698   \n",
       "\n",
       "        seller_state  customer_state  payment_type_boleto  \\\n",
       "0          -0.369792       -0.935604                    0   \n",
       "1          -0.369792       -0.935604                    0   \n",
       "2          -0.369792       -0.935604                    0   \n",
       "3          -0.369792       -0.935604                    0   \n",
       "4          -0.369792       -0.935604                    0   \n",
       "...              ...             ...                  ...   \n",
       "117324     -0.369792       -0.935604                    1   \n",
       "117325      2.470949        0.072504                    0   \n",
       "117326     -0.369792        2.780352                    0   \n",
       "117327     -0.369792        0.477767                    0   \n",
       "117328     -0.369792       -0.935604                    1   \n",
       "\n",
       "        payment_type_credit_card  payment_type_debit_card  \\\n",
       "0                              1                        0   \n",
       "1                              0                        0   \n",
       "2                              0                        0   \n",
       "3                              1                        0   \n",
       "4                              1                        0   \n",
       "...                          ...                      ...   \n",
       "117324                         0                        0   \n",
       "117325                         1                        0   \n",
       "117326                         0                        1   \n",
       "117327                         1                        0   \n",
       "117328                         0                        0   \n",
       "\n",
       "        payment_type_voucher  \n",
       "0                          0  \n",
       "1                          1  \n",
       "2                          1  \n",
       "3                          0  \n",
       "4                          0  \n",
       "...                      ...  \n",
       "117324                     0  \n",
       "117325                     0  \n",
       "117326                     0  \n",
       "117327                     0  \n",
       "117328                     0  \n",
       "\n",
       "[115633 rows x 13 columns]"
      ]
     },
     "execution_count": 161,
     "metadata": {},
     "output_type": "execute_result"
    }
   ],
   "source": [
    "merged_features "
   ]
  },
  {
   "attachments": {},
   "cell_type": "markdown",
   "metadata": {},
   "source": [
    "### removing outliers "
   ]
  },
  {
   "cell_type": "code",
   "execution_count": 162,
   "metadata": {},
   "outputs": [
    {
     "data": {
      "text/plain": [
       "1     57616\n",
       "2     13405\n",
       "3     11555\n",
       "4      7855\n",
       "10     6785\n",
       "5      5928\n",
       "8      5014\n",
       "6      4547\n",
       "7      1789\n",
       "9       710\n",
       "12      164\n",
       "15       91\n",
       "18       38\n",
       "24       34\n",
       "11       22\n",
       "20       20\n",
       "13       19\n",
       "14       16\n",
       "17        7\n",
       "16        7\n",
       "21        6\n",
       "0         3\n",
       "23        1\n",
       "22        1\n",
       "Name: payment_installments, dtype: int64"
      ]
     },
     "execution_count": 162,
     "metadata": {},
     "output_type": "execute_result"
    }
   ],
   "source": [
    "merged_features.payment_installments.value_counts()"
   ]
  },
  {
   "cell_type": "code",
   "execution_count": 163,
   "metadata": {},
   "outputs": [],
   "source": [
    "merged_features = merged_features[merged_features['payment_installments'] != 7]\n",
    "merged_features = merged_features[merged_features['payment_installments'] != 9]"
   ]
  },
  {
   "cell_type": "code",
   "execution_count": 164,
   "metadata": {},
   "outputs": [],
   "source": [
    "merged_features = merged_features[merged_features['payment_installments'] <= 10]"
   ]
  },
  {
   "cell_type": "code",
   "execution_count": 165,
   "metadata": {},
   "outputs": [],
   "source": [
    "merged_features = merged_features[merged_features['payment_installments'] != 0]"
   ]
  },
  {
   "cell_type": "code",
   "execution_count": 166,
   "metadata": {},
   "outputs": [
    {
     "name": "stdout",
     "output_type": "stream",
     "text": [
      "<class 'pandas.core.frame.DataFrame'>\n",
      "Int64Index: 112705 entries, 0 to 117328\n",
      "Data columns (total 13 columns):\n",
      " #   Column                    Non-Null Count   Dtype  \n",
      "---  ------                    --------------   -----  \n",
      " 0   price                     112705 non-null  float64\n",
      " 1   payment_value             112705 non-null  float64\n",
      " 2   product_weight_g          112705 non-null  float64\n",
      " 3   product_height_cm         112705 non-null  float64\n",
      " 4   payment_installments      112705 non-null  int64  \n",
      " 5   freight_value             112705 non-null  float64\n",
      " 6   product_category_name     112705 non-null  float64\n",
      " 7   seller_state              112705 non-null  float64\n",
      " 8   customer_state            112705 non-null  float64\n",
      " 9   payment_type_boleto       112705 non-null  uint8  \n",
      " 10  payment_type_credit_card  112705 non-null  uint8  \n",
      " 11  payment_type_debit_card   112705 non-null  uint8  \n",
      " 12  payment_type_voucher      112705 non-null  uint8  \n",
      "dtypes: float64(8), int64(1), uint8(4)\n",
      "memory usage: 9.0 MB\n"
     ]
    }
   ],
   "source": [
    "merged_features.info()"
   ]
  },
  {
   "cell_type": "code",
   "execution_count": 167,
   "metadata": {},
   "outputs": [],
   "source": [
    "merged_features = merged_features.dropna()"
   ]
  },
  {
   "cell_type": "code",
   "execution_count": 168,
   "metadata": {},
   "outputs": [
    {
     "name": "stdout",
     "output_type": "stream",
     "text": [
      "<class 'pandas.core.frame.DataFrame'>\n",
      "Int64Index: 112705 entries, 0 to 117328\n",
      "Data columns (total 13 columns):\n",
      " #   Column                    Non-Null Count   Dtype  \n",
      "---  ------                    --------------   -----  \n",
      " 0   price                     112705 non-null  float64\n",
      " 1   payment_value             112705 non-null  float64\n",
      " 2   product_weight_g          112705 non-null  float64\n",
      " 3   product_height_cm         112705 non-null  float64\n",
      " 4   payment_installments      112705 non-null  int64  \n",
      " 5   freight_value             112705 non-null  float64\n",
      " 6   product_category_name     112705 non-null  float64\n",
      " 7   seller_state              112705 non-null  float64\n",
      " 8   customer_state            112705 non-null  float64\n",
      " 9   payment_type_boleto       112705 non-null  uint8  \n",
      " 10  payment_type_credit_card  112705 non-null  uint8  \n",
      " 11  payment_type_debit_card   112705 non-null  uint8  \n",
      " 12  payment_type_voucher      112705 non-null  uint8  \n",
      "dtypes: float64(8), int64(1), uint8(4)\n",
      "memory usage: 9.0 MB\n"
     ]
    }
   ],
   "source": [
    "merged_features.info()"
   ]
  },
  {
   "cell_type": "code",
   "execution_count": 169,
   "metadata": {},
   "outputs": [],
   "source": [
    "final_df = merged_features"
   ]
  },
  {
   "attachments": {},
   "cell_type": "markdown",
   "metadata": {},
   "source": [
    "## Model Building"
   ]
  },
  {
   "cell_type": "code",
   "execution_count": 171,
   "metadata": {},
   "outputs": [],
   "source": [
    "from sklearn.model_selection import train_test_split\n",
    "X_train, X_test, y_train, y_test = train_test_split(merged_features.drop(columns=['payment_installments']),merged_features.payment_installments, test_size=0.20, stratify = merged_features.payment_installments, random_state=42)"
   ]
  },
  {
   "cell_type": "code",
   "execution_count": 172,
   "metadata": {},
   "outputs": [],
   "source": [
    "# Define models to be trained\n",
    "models = {\n",
    "    \"Logistic Regression\": LogisticRegression(max_iter=3000,solver=\"liblinear\"),\n",
    "    \n",
    "    \"Decision Tree\": DecisionTreeClassifier(),\n",
    "    \"Random Forest\": RandomForestClassifier(),\n",
    "    \"Gradient Boost\": GradientBoostingClassifier(),\n",
    "    \"Support Vector Machine\": SVC()\n",
    "}\n",
    "\n",
    "# Define number of samples to use for cross-validation\n",
    "n_samples = 10000\n",
    "\n",
    "# Create stratified folds\n",
    "skf = StratifiedKFold(n_splits=5, shuffle=True, random_state=42)\n",
    "\n",
    "\n",
    "# Create empty dictionaries to store accuracy and f1 scores for each model\n",
    "train_df_accuracy_scores = {}\n",
    "train_df_f1_scores = {}\n",
    "train_df_classification_reports = {}"
   ]
  },
  {
   "cell_type": "code",
   "execution_count": 173,
   "metadata": {},
   "outputs": [
    {
     "name": "stderr",
     "output_type": "stream",
     "text": [
      "  0%|          | 0/5 [00:00<?, ?it/s]c:\\Users\\kevin\\anaconda3\\lib\\site-packages\\sklearn\\metrics\\_classification.py:1344: UndefinedMetricWarning: Precision and F-score are ill-defined and being set to 0.0 in labels with no predicted samples. Use `zero_division` parameter to control this behavior.\n",
      "  _warn_prf(average, modifier, msg_start, len(result))\n",
      "c:\\Users\\kevin\\anaconda3\\lib\\site-packages\\sklearn\\metrics\\_classification.py:1344: UndefinedMetricWarning: Precision and F-score are ill-defined and being set to 0.0 in labels with no predicted samples. Use `zero_division` parameter to control this behavior.\n",
      "  _warn_prf(average, modifier, msg_start, len(result))\n",
      "c:\\Users\\kevin\\anaconda3\\lib\\site-packages\\sklearn\\metrics\\_classification.py:1344: UndefinedMetricWarning: Precision and F-score are ill-defined and being set to 0.0 in labels with no predicted samples. Use `zero_division` parameter to control this behavior.\n",
      "  _warn_prf(average, modifier, msg_start, len(result))\n",
      " 20%|██        | 1/5 [00:06<00:27,  6.91s/it]"
     ]
    },
    {
     "name": "stdout",
     "output_type": "stream",
     "text": [
      "Logistic Regression:\n",
      "\tAccuracy: 0.526 +/- 0.003\n",
      "\tF1-score: 0.146 +/- 0.004\n"
     ]
    },
    {
     "name": "stderr",
     "output_type": "stream",
     "text": [
      " 40%|████      | 2/5 [00:10<00:13,  4.67s/it]"
     ]
    },
    {
     "name": "stdout",
     "output_type": "stream",
     "text": [
      "Decision Tree:\n",
      "\tAccuracy: 0.484 +/- 0.008\n",
      "\tF1-score: 0.265 +/- 0.010\n"
     ]
    },
    {
     "name": "stderr",
     "output_type": "stream",
     "text": [
      " 60%|██████    | 3/5 [00:15<00:09,  4.99s/it]"
     ]
    },
    {
     "name": "stdout",
     "output_type": "stream",
     "text": [
      "Random Forest:\n",
      "\tAccuracy: 0.534 +/- 0.005\n",
      "\tF1-score: 0.271 +/- 0.009\n"
     ]
    },
    {
     "name": "stderr",
     "output_type": "stream",
     "text": [
      " 80%|████████  | 4/5 [00:49<00:16, 16.35s/it]"
     ]
    },
    {
     "name": "stdout",
     "output_type": "stream",
     "text": [
      "Gradient Boost:\n",
      "\tAccuracy: 0.542 +/- 0.003\n",
      "\tF1-score: 0.247 +/- 0.004\n"
     ]
    },
    {
     "name": "stderr",
     "output_type": "stream",
     "text": [
      " 80%|████████  | 4/5 [00:53<00:13, 13.35s/it]\n"
     ]
    },
    {
     "ename": "KeyboardInterrupt",
     "evalue": "",
     "output_type": "error",
     "traceback": [
      "\u001b[1;31m---------------------------------------------------------------------------\u001b[0m",
      "\u001b[1;31mKeyboardInterrupt\u001b[0m                         Traceback (most recent call last)",
      "Cell \u001b[1;32mIn[173], line 7\u001b[0m\n\u001b[0;32m      4\u001b[0m pipeline \u001b[39m=\u001b[39m make_pipeline( model)\n\u001b[0;32m      6\u001b[0m \u001b[39m# Perform cross-validation on subset of data\u001b[39;00m\n\u001b[1;32m----> 7\u001b[0m scores \u001b[39m=\u001b[39m cross_validate(pipeline, X_train[:n_samples], y_train[:n_samples], cv\u001b[39m=\u001b[39;49mskf, n_jobs\u001b[39m=\u001b[39;49m\u001b[39m-\u001b[39;49m\u001b[39m1\u001b[39;49m, scoring\u001b[39m=\u001b[39;49m[\u001b[39m\"\u001b[39;49m\u001b[39maccuracy\u001b[39;49m\u001b[39m\"\u001b[39;49m, \u001b[39m\"\u001b[39;49m\u001b[39mf1_macro\u001b[39;49m\u001b[39m\"\u001b[39;49m], return_train_score\u001b[39m=\u001b[39;49m\u001b[39mFalse\u001b[39;49;00m)\n\u001b[0;32m      9\u001b[0m \u001b[39m# Calculate mean and standard deviation of scores\u001b[39;00m\n\u001b[0;32m     10\u001b[0m mean_accuracy \u001b[39m=\u001b[39m np\u001b[39m.\u001b[39mmean(scores[\u001b[39m'\u001b[39m\u001b[39mtest_accuracy\u001b[39m\u001b[39m'\u001b[39m])\n",
      "File \u001b[1;32mc:\\Users\\kevin\\anaconda3\\lib\\site-packages\\sklearn\\model_selection\\_validation.py:266\u001b[0m, in \u001b[0;36mcross_validate\u001b[1;34m(estimator, X, y, groups, scoring, cv, n_jobs, verbose, fit_params, pre_dispatch, return_train_score, return_estimator, error_score)\u001b[0m\n\u001b[0;32m    263\u001b[0m \u001b[39m# We clone the estimator to make sure that all the folds are\u001b[39;00m\n\u001b[0;32m    264\u001b[0m \u001b[39m# independent, and that it is pickle-able.\u001b[39;00m\n\u001b[0;32m    265\u001b[0m parallel \u001b[39m=\u001b[39m Parallel(n_jobs\u001b[39m=\u001b[39mn_jobs, verbose\u001b[39m=\u001b[39mverbose, pre_dispatch\u001b[39m=\u001b[39mpre_dispatch)\n\u001b[1;32m--> 266\u001b[0m results \u001b[39m=\u001b[39m parallel(\n\u001b[0;32m    267\u001b[0m     delayed(_fit_and_score)(\n\u001b[0;32m    268\u001b[0m         clone(estimator),\n\u001b[0;32m    269\u001b[0m         X,\n\u001b[0;32m    270\u001b[0m         y,\n\u001b[0;32m    271\u001b[0m         scorers,\n\u001b[0;32m    272\u001b[0m         train,\n\u001b[0;32m    273\u001b[0m         test,\n\u001b[0;32m    274\u001b[0m         verbose,\n\u001b[0;32m    275\u001b[0m         \u001b[39mNone\u001b[39;49;00m,\n\u001b[0;32m    276\u001b[0m         fit_params,\n\u001b[0;32m    277\u001b[0m         return_train_score\u001b[39m=\u001b[39;49mreturn_train_score,\n\u001b[0;32m    278\u001b[0m         return_times\u001b[39m=\u001b[39;49m\u001b[39mTrue\u001b[39;49;00m,\n\u001b[0;32m    279\u001b[0m         return_estimator\u001b[39m=\u001b[39;49mreturn_estimator,\n\u001b[0;32m    280\u001b[0m         error_score\u001b[39m=\u001b[39;49merror_score,\n\u001b[0;32m    281\u001b[0m     )\n\u001b[0;32m    282\u001b[0m     \u001b[39mfor\u001b[39;49;00m train, test \u001b[39min\u001b[39;49;00m cv\u001b[39m.\u001b[39;49msplit(X, y, groups)\n\u001b[0;32m    283\u001b[0m )\n\u001b[0;32m    285\u001b[0m _warn_or_raise_about_fit_failures(results, error_score)\n\u001b[0;32m    287\u001b[0m \u001b[39m# For callabe scoring, the return type is only know after calling. If the\u001b[39;00m\n\u001b[0;32m    288\u001b[0m \u001b[39m# return type is a dictionary, the error scores can now be inserted with\u001b[39;00m\n\u001b[0;32m    289\u001b[0m \u001b[39m# the correct key.\u001b[39;00m\n",
      "File \u001b[1;32mc:\\Users\\kevin\\anaconda3\\lib\\site-packages\\joblib\\parallel.py:1098\u001b[0m, in \u001b[0;36mParallel.__call__\u001b[1;34m(self, iterable)\u001b[0m\n\u001b[0;32m   1095\u001b[0m     \u001b[39mself\u001b[39m\u001b[39m.\u001b[39m_iterating \u001b[39m=\u001b[39m \u001b[39mFalse\u001b[39;00m\n\u001b[0;32m   1097\u001b[0m \u001b[39mwith\u001b[39;00m \u001b[39mself\u001b[39m\u001b[39m.\u001b[39m_backend\u001b[39m.\u001b[39mretrieval_context():\n\u001b[1;32m-> 1098\u001b[0m     \u001b[39mself\u001b[39;49m\u001b[39m.\u001b[39;49mretrieve()\n\u001b[0;32m   1099\u001b[0m \u001b[39m# Make sure that we get a last message telling us we are done\u001b[39;00m\n\u001b[0;32m   1100\u001b[0m elapsed_time \u001b[39m=\u001b[39m time\u001b[39m.\u001b[39mtime() \u001b[39m-\u001b[39m \u001b[39mself\u001b[39m\u001b[39m.\u001b[39m_start_time\n",
      "File \u001b[1;32mc:\\Users\\kevin\\anaconda3\\lib\\site-packages\\joblib\\parallel.py:975\u001b[0m, in \u001b[0;36mParallel.retrieve\u001b[1;34m(self)\u001b[0m\n\u001b[0;32m    973\u001b[0m \u001b[39mtry\u001b[39;00m:\n\u001b[0;32m    974\u001b[0m     \u001b[39mif\u001b[39;00m \u001b[39mgetattr\u001b[39m(\u001b[39mself\u001b[39m\u001b[39m.\u001b[39m_backend, \u001b[39m'\u001b[39m\u001b[39msupports_timeout\u001b[39m\u001b[39m'\u001b[39m, \u001b[39mFalse\u001b[39;00m):\n\u001b[1;32m--> 975\u001b[0m         \u001b[39mself\u001b[39m\u001b[39m.\u001b[39m_output\u001b[39m.\u001b[39mextend(job\u001b[39m.\u001b[39;49mget(timeout\u001b[39m=\u001b[39;49m\u001b[39mself\u001b[39;49m\u001b[39m.\u001b[39;49mtimeout))\n\u001b[0;32m    976\u001b[0m     \u001b[39melse\u001b[39;00m:\n\u001b[0;32m    977\u001b[0m         \u001b[39mself\u001b[39m\u001b[39m.\u001b[39m_output\u001b[39m.\u001b[39mextend(job\u001b[39m.\u001b[39mget())\n",
      "File \u001b[1;32mc:\\Users\\kevin\\anaconda3\\lib\\site-packages\\joblib\\_parallel_backends.py:567\u001b[0m, in \u001b[0;36mLokyBackend.wrap_future_result\u001b[1;34m(future, timeout)\u001b[0m\n\u001b[0;32m    564\u001b[0m \u001b[39m\"\"\"Wrapper for Future.result to implement the same behaviour as\u001b[39;00m\n\u001b[0;32m    565\u001b[0m \u001b[39mAsyncResults.get from multiprocessing.\"\"\"\u001b[39;00m\n\u001b[0;32m    566\u001b[0m \u001b[39mtry\u001b[39;00m:\n\u001b[1;32m--> 567\u001b[0m     \u001b[39mreturn\u001b[39;00m future\u001b[39m.\u001b[39;49mresult(timeout\u001b[39m=\u001b[39;49mtimeout)\n\u001b[0;32m    568\u001b[0m \u001b[39mexcept\u001b[39;00m CfTimeoutError \u001b[39mas\u001b[39;00m e:\n\u001b[0;32m    569\u001b[0m     \u001b[39mraise\u001b[39;00m \u001b[39mTimeoutError\u001b[39;00m \u001b[39mfrom\u001b[39;00m \u001b[39me\u001b[39;00m\n",
      "File \u001b[1;32mc:\\Users\\kevin\\anaconda3\\lib\\concurrent\\futures\\_base.py:441\u001b[0m, in \u001b[0;36mFuture.result\u001b[1;34m(self, timeout)\u001b[0m\n\u001b[0;32m    438\u001b[0m \u001b[39melif\u001b[39;00m \u001b[39mself\u001b[39m\u001b[39m.\u001b[39m_state \u001b[39m==\u001b[39m FINISHED:\n\u001b[0;32m    439\u001b[0m     \u001b[39mreturn\u001b[39;00m \u001b[39mself\u001b[39m\u001b[39m.\u001b[39m__get_result()\n\u001b[1;32m--> 441\u001b[0m \u001b[39mself\u001b[39;49m\u001b[39m.\u001b[39;49m_condition\u001b[39m.\u001b[39;49mwait(timeout)\n\u001b[0;32m    443\u001b[0m \u001b[39mif\u001b[39;00m \u001b[39mself\u001b[39m\u001b[39m.\u001b[39m_state \u001b[39min\u001b[39;00m [CANCELLED, CANCELLED_AND_NOTIFIED]:\n\u001b[0;32m    444\u001b[0m     \u001b[39mraise\u001b[39;00m CancelledError()\n",
      "File \u001b[1;32mc:\\Users\\kevin\\anaconda3\\lib\\threading.py:312\u001b[0m, in \u001b[0;36mCondition.wait\u001b[1;34m(self, timeout)\u001b[0m\n\u001b[0;32m    310\u001b[0m \u001b[39mtry\u001b[39;00m:    \u001b[39m# restore state no matter what (e.g., KeyboardInterrupt)\u001b[39;00m\n\u001b[0;32m    311\u001b[0m     \u001b[39mif\u001b[39;00m timeout \u001b[39mis\u001b[39;00m \u001b[39mNone\u001b[39;00m:\n\u001b[1;32m--> 312\u001b[0m         waiter\u001b[39m.\u001b[39;49macquire()\n\u001b[0;32m    313\u001b[0m         gotit \u001b[39m=\u001b[39m \u001b[39mTrue\u001b[39;00m\n\u001b[0;32m    314\u001b[0m     \u001b[39melse\u001b[39;00m:\n",
      "\u001b[1;31mKeyboardInterrupt\u001b[0m: "
     ]
    }
   ],
   "source": [
    "# Loop through models and perform cross-validation\n",
    "for name, model in tqdm(models.items()):\n",
    "    # Create pipeline\n",
    "    pipeline = make_pipeline( model)\n",
    "    \n",
    "    # Perform cross-validation on subset of data\n",
    "    scores = cross_validate(pipeline, X_train[:n_samples], y_train[:n_samples], cv=skf, n_jobs=-1, scoring=[\"accuracy\", \"f1_macro\"], return_train_score=False)\n",
    "    \n",
    "    # Calculate mean and standard deviation of scores\n",
    "    mean_accuracy = np.mean(scores['test_accuracy'])\n",
    "    std_accuracy = np.std(scores['test_accuracy'])\n",
    "    mean_f1_score = np.mean(scores['test_f1_macro'])\n",
    "    std_f1_score = np.std(scores['test_f1_macro'])\n",
    "    \n",
    "    # Store accuracy and f1 scores for each model\n",
    "    train_df_accuracy_scores[name] = (mean_accuracy, std_accuracy)\n",
    "    train_df_f1_scores[name] = (mean_f1_score, std_f1_score)\n",
    "    \n",
    "    # Store classification report for each model\n",
    "    pipeline.fit(X_train[:n_samples], y_train[:n_samples])\n",
    "    y_pred = pipeline.predict(X_train[:n_samples])\n",
    "    train_df_classification_reports[name] = classification_report(y_train[:n_samples], y_pred)\n",
    "    \n",
    "    # Print results\n",
    "    print(f\"{name}:\")\n",
    "    print(f\"\\tAccuracy: {mean_accuracy:.3f} +/- {std_accuracy:.3f}\")\n",
    "    print(f\"\\tF1-score: {mean_f1_score:.3f} +/- {std_f1_score:.3f}\")"
   ]
  },
  {
   "cell_type": "code",
   "execution_count": 96,
   "metadata": {},
   "outputs": [
    {
     "data": {
      "image/png": "[encoded data removed]",
      "text/plain": [
       "<Figure size 864x288 with 2 Axes>"
      ]
     },
     "metadata": {
      "needs_background": "light"
     },
     "output_type": "display_data"
    }
   ],
   "source": [
    "# Plot accuracy and f1-score for each model\n",
    "fig, ax = plt.subplots(1, 2, figsize=(12,4))\n",
    "\n",
    "# Plot accuracy\n",
    "ax[0].bar(train_df_accuracy_scores.keys(), [score[0] for score in train_df_accuracy_scores.values()], yerr=[score[1] for score in train_df_accuracy_scores.values()], capsize=5)\n",
    "ax[0].set_ylim([0.3, 0.80])\n",
    "ax[0].set_title(\"Accuracy\")\n",
    "ax[0].set_ylabel(\"Score\")\n",
    "ax[0].tick_params(axis='x', labelrotation=90)\n",
    "\n",
    "# Plot f1-score\n",
    "ax[1].bar(train_df_f1_scores.keys(), [score[0] for score in train_df_f1_scores.values()], yerr=[score[1] for score in train_df_f1_scores.values()], capsize=5)\n",
    "ax[1].set_ylim([0.1, 0.80])\n",
    "ax[1].set_title(\"F1-score\")\n",
    "ax[1].set_ylabel(\"Score\")\n",
    "ax[1].tick_params(axis='x', labelrotation=90)\n",
    "\n",
    "# Remove right borders\n",
    "ax[0].spines['right'].set_visible(False)\n",
    "ax[1].spines['right'].set_visible(False)\n",
    "\n",
    "ax[0].spines['top'].set_visible(False)\n",
    "ax[1].spines['top'].set_visible(False)\n",
    "\n",
    "plt.show()"
   ]
  },
  {
   "cell_type": "markdown",
   "metadata": {},
   "source": [
    "## payment prediction"
   ]
  },
  {
   "cell_type": "code",
   "execution_count": 174,
   "metadata": {},
   "outputs": [],
   "source": [
    "import datetime as dt"
   ]
  },
  {
   "cell_type": "code",
   "execution_count": 175,
   "metadata": {},
   "outputs": [],
   "source": [
    "orders = pd.read_csv('olist_orders_dataset.csv')\n",
    "order_payments = pd.read_csv('olist_order_payments_dataset.csv')\n",
    "order_items = pd.read_csv('olist_order_items_dataset.csv')\n",
    "products = pd.read_csv('olist_products_dataset.csv')\n",
    "sellers = pd.read_csv('olist_sellers_dataset.csv')\n",
    "customers = pd.read_csv('olist_customers_dataset.csv')\n",
    "order_reviews = pd.read_csv('olist_order_reviews_dataset.csv')\n",
    "order_reviews\n",
    "# Merge the datasets based on the order_id column\n",
    "merged_2 = orders.merge(order_payments, on='order_id')\n",
    "merged_2 = merged_2.merge(order_items, on='order_id')\n",
    "merged_2 = merged_2.merge(products, on='product_id')\n",
    "merged_2 = merged_2.merge(sellers, on='seller_id')\n",
    "merged_2 = merged_2.merge(customers, on='customer_id')\n",
    "merged_2 = merged_2.merge(order_reviews, on='order_id')"
   ]
  },
  {
   "cell_type": "code",
   "execution_count": 176,
   "metadata": {},
   "outputs": [],
   "source": [
    "merged_2['order_purchase_timestamp'] = pd.to_datetime(merged_2['order_purchase_timestamp'])\n",
    "merged_2['order_approved_at'] = pd.to_datetime(merged_2['order_approved_at'])\n",
    "merged_2['order_delivered_carrier_date'] = pd.to_datetime(merged_2['order_delivered_carrier_date'])\n",
    "merged_2['order_delivered_customer_date'] = pd.to_datetime(merged_2['order_delivered_customer_date'])\n",
    "merged_2['order_estimated_delivery_date'] = pd.to_datetime(merged_2['order_estimated_delivery_date'])\n",
    "merged_2[\"delivery_duration\"] = (merged_2[\"order_delivered_customer_date\"] - merged_2[\"order_delivered_carrier_date\"])\n",
    "merged_2[\"delivery_hours\"] = merged_2[\"delivery_duration\"]/ dt.timedelta(hours=1)"
   ]
  },
  {
   "cell_type": "code",
   "execution_count": 177,
   "metadata": {},
   "outputs": [
    {
     "data": {
      "text/plain": [
       "<AxesSubplot:>"
      ]
     },
     "execution_count": 177,
     "metadata": {},
     "output_type": "execute_result"
    },
    {
     "data": {
      "image/png": "[encoded data removed]",
      "text/plain": [
       "<Figure size 432x288 with 2 Axes>"
      ]
     },
     "metadata": {
      "needs_background": "light"
     },
     "output_type": "display_data"
    }
   ],
   "source": [
    "sns.heatmap(merged_2.corr())"
   ]
  },
  {
   "attachments": {},
   "cell_type": "markdown",
   "metadata": {},
   "source": [
    "delivery_hours        93997 non-null  float64\n",
    " 1   price                 93997 non-null  float64\n",
    " 2   freight_value         93997 non-null  float64\n",
    " 3   review_score          93997 non-null  float64\n",
    " 4   payment_sequential    93997 non-null  float64\n",
    " 5   payment_installments  93997 non-null  float64\n",
    " 6   payment_value         93997 non-null  float64\n",
    " 7   product_weight_g      93997 non-null  float64\n",
    " 8   product_length_cm     93997 non-null  float64\n",
    " 9   product_height_cm     93997 non-null  float64\n",
    " 10  product_width_cm "
   ]
  },
  {
   "cell_type": "code",
   "execution_count": 194,
   "metadata": {},
   "outputs": [],
   "source": [
    "price_df = merged_2[['price','freight_value', 'review_score','payment_sequential','payment_installments',\n",
    "                     'payment_value','product_weight_g','product_length_cm','product_height_cm','product_width_cm']]"
   ]
  },
  {
   "cell_type": "code",
   "execution_count": 195,
   "metadata": {},
   "outputs": [
    {
     "name": "stdout",
     "output_type": "stream",
     "text": [
      "<class 'pandas.core.frame.DataFrame'>\n",
      "Int64Index: 117329 entries, 0 to 117328\n",
      "Data columns (total 10 columns):\n",
      " #   Column                Non-Null Count   Dtype  \n",
      "---  ------                --------------   -----  \n",
      " 0   price                 117329 non-null  float64\n",
      " 1   freight_value         117329 non-null  float64\n",
      " 2   review_score          117329 non-null  int64  \n",
      " 3   payment_sequential    117329 non-null  int64  \n",
      " 4   payment_installments  117329 non-null  int64  \n",
      " 5   payment_value         117329 non-null  float64\n",
      " 6   product_weight_g      117309 non-null  float64\n",
      " 7   product_length_cm     117309 non-null  float64\n",
      " 8   product_height_cm     117309 non-null  float64\n",
      " 9   product_width_cm      117309 non-null  float64\n",
      "dtypes: float64(7), int64(3)\n",
      "memory usage: 9.8 MB\n"
     ]
    }
   ],
   "source": [
    "price_df.info()"
   ]
  },
  {
   "cell_type": "code",
   "execution_count": 196,
   "metadata": {},
   "outputs": [],
   "source": [
    "price_df = price_df.dropna()"
   ]
  },
  {
   "cell_type": "code",
   "execution_count": 197,
   "metadata": {},
   "outputs": [
    {
     "data": {
      "text/html": [
       "<div>\n",
       "<style scoped>\n",
       "    .dataframe tbody tr th:only-of-type {\n",
       "        vertical-align: middle;\n",
       "    }\n",
       "\n",
       "    .dataframe tbody tr th {\n",
       "        vertical-align: top;\n",
       "    }\n",
       "\n",
       "    .dataframe thead th {\n",
       "        text-align: right;\n",
       "    }\n",
       "</style>\n",
       "<table border=\"1\" class=\"dataframe\">\n",
       "  <thead>\n",
       "    <tr style=\"text-align: right;\">\n",
       "      <th></th>\n",
       "      <th>price</th>\n",
       "      <th>freight_value</th>\n",
       "      <th>review_score</th>\n",
       "      <th>payment_sequential</th>\n",
       "      <th>payment_installments</th>\n",
       "      <th>payment_value</th>\n",
       "      <th>product_weight_g</th>\n",
       "      <th>product_length_cm</th>\n",
       "      <th>product_height_cm</th>\n",
       "      <th>product_width_cm</th>\n",
       "    </tr>\n",
       "  </thead>\n",
       "  <tbody>\n",
       "    <tr>\n",
       "      <th>0</th>\n",
       "      <td>29.99</td>\n",
       "      <td>8.72</td>\n",
       "      <td>4</td>\n",
       "      <td>1</td>\n",
       "      <td>1</td>\n",
       "      <td>18.12</td>\n",
       "      <td>500.0</td>\n",
       "      <td>19.0</td>\n",
       "      <td>8.0</td>\n",
       "      <td>13.0</td>\n",
       "    </tr>\n",
       "    <tr>\n",
       "      <th>1</th>\n",
       "      <td>29.99</td>\n",
       "      <td>8.72</td>\n",
       "      <td>4</td>\n",
       "      <td>3</td>\n",
       "      <td>1</td>\n",
       "      <td>2.00</td>\n",
       "      <td>500.0</td>\n",
       "      <td>19.0</td>\n",
       "      <td>8.0</td>\n",
       "      <td>13.0</td>\n",
       "    </tr>\n",
       "    <tr>\n",
       "      <th>2</th>\n",
       "      <td>29.99</td>\n",
       "      <td>8.72</td>\n",
       "      <td>4</td>\n",
       "      <td>2</td>\n",
       "      <td>1</td>\n",
       "      <td>18.59</td>\n",
       "      <td>500.0</td>\n",
       "      <td>19.0</td>\n",
       "      <td>8.0</td>\n",
       "      <td>13.0</td>\n",
       "    </tr>\n",
       "    <tr>\n",
       "      <th>3</th>\n",
       "      <td>29.99</td>\n",
       "      <td>7.78</td>\n",
       "      <td>4</td>\n",
       "      <td>1</td>\n",
       "      <td>3</td>\n",
       "      <td>37.77</td>\n",
       "      <td>500.0</td>\n",
       "      <td>19.0</td>\n",
       "      <td>8.0</td>\n",
       "      <td>13.0</td>\n",
       "    </tr>\n",
       "    <tr>\n",
       "      <th>4</th>\n",
       "      <td>29.99</td>\n",
       "      <td>7.78</td>\n",
       "      <td>5</td>\n",
       "      <td>1</td>\n",
       "      <td>1</td>\n",
       "      <td>37.77</td>\n",
       "      <td>500.0</td>\n",
       "      <td>19.0</td>\n",
       "      <td>8.0</td>\n",
       "      <td>13.0</td>\n",
       "    </tr>\n",
       "    <tr>\n",
       "      <th>...</th>\n",
       "      <td>...</td>\n",
       "      <td>...</td>\n",
       "      <td>...</td>\n",
       "      <td>...</td>\n",
       "      <td>...</td>\n",
       "      <td>...</td>\n",
       "      <td>...</td>\n",
       "      <td>...</td>\n",
       "      <td>...</td>\n",
       "      <td>...</td>\n",
       "    </tr>\n",
       "    <tr>\n",
       "      <th>117324</th>\n",
       "      <td>79.00</td>\n",
       "      <td>14.13</td>\n",
       "      <td>5</td>\n",
       "      <td>1</td>\n",
       "      <td>1</td>\n",
       "      <td>93.13</td>\n",
       "      <td>750.0</td>\n",
       "      <td>30.0</td>\n",
       "      <td>28.0</td>\n",
       "      <td>28.0</td>\n",
       "    </tr>\n",
       "    <tr>\n",
       "      <th>117325</th>\n",
       "      <td>19.70</td>\n",
       "      <td>10.96</td>\n",
       "      <td>1</td>\n",
       "      <td>1</td>\n",
       "      <td>1</td>\n",
       "      <td>30.66</td>\n",
       "      <td>400.0</td>\n",
       "      <td>16.0</td>\n",
       "      <td>4.0</td>\n",
       "      <td>11.0</td>\n",
       "    </tr>\n",
       "    <tr>\n",
       "      <th>117326</th>\n",
       "      <td>399.00</td>\n",
       "      <td>45.07</td>\n",
       "      <td>5</td>\n",
       "      <td>1</td>\n",
       "      <td>1</td>\n",
       "      <td>444.07</td>\n",
       "      <td>2100.0</td>\n",
       "      <td>80.0</td>\n",
       "      <td>8.0</td>\n",
       "      <td>30.0</td>\n",
       "    </tr>\n",
       "    <tr>\n",
       "      <th>117327</th>\n",
       "      <td>219.90</td>\n",
       "      <td>24.12</td>\n",
       "      <td>4</td>\n",
       "      <td>1</td>\n",
       "      <td>4</td>\n",
       "      <td>244.02</td>\n",
       "      <td>5900.0</td>\n",
       "      <td>41.0</td>\n",
       "      <td>21.0</td>\n",
       "      <td>41.0</td>\n",
       "    </tr>\n",
       "    <tr>\n",
       "      <th>117328</th>\n",
       "      <td>15.50</td>\n",
       "      <td>12.79</td>\n",
       "      <td>5</td>\n",
       "      <td>1</td>\n",
       "      <td>1</td>\n",
       "      <td>28.29</td>\n",
       "      <td>83.0</td>\n",
       "      <td>17.0</td>\n",
       "      <td>8.0</td>\n",
       "      <td>13.0</td>\n",
       "    </tr>\n",
       "  </tbody>\n",
       "</table>\n",
       "<p>117309 rows × 10 columns</p>\n",
       "</div>"
      ],
      "text/plain": [
       "         price  freight_value  review_score  payment_sequential  \\\n",
       "0        29.99           8.72             4                   1   \n",
       "1        29.99           8.72             4                   3   \n",
       "2        29.99           8.72             4                   2   \n",
       "3        29.99           7.78             4                   1   \n",
       "4        29.99           7.78             5                   1   \n",
       "...        ...            ...           ...                 ...   \n",
       "117324   79.00          14.13             5                   1   \n",
       "117325   19.70          10.96             1                   1   \n",
       "117326  399.00          45.07             5                   1   \n",
       "117327  219.90          24.12             4                   1   \n",
       "117328   15.50          12.79             5                   1   \n",
       "\n",
       "        payment_installments  payment_value  product_weight_g  \\\n",
       "0                          1          18.12             500.0   \n",
       "1                          1           2.00             500.0   \n",
       "2                          1          18.59             500.0   \n",
       "3                          3          37.77             500.0   \n",
       "4                          1          37.77             500.0   \n",
       "...                      ...            ...               ...   \n",
       "117324                     1          93.13             750.0   \n",
       "117325                     1          30.66             400.0   \n",
       "117326                     1         444.07            2100.0   \n",
       "117327                     4         244.02            5900.0   \n",
       "117328                     1          28.29              83.0   \n",
       "\n",
       "        product_length_cm  product_height_cm  product_width_cm  \n",
       "0                    19.0                8.0              13.0  \n",
       "1                    19.0                8.0              13.0  \n",
       "2                    19.0                8.0              13.0  \n",
       "3                    19.0                8.0              13.0  \n",
       "4                    19.0                8.0              13.0  \n",
       "...                   ...                ...               ...  \n",
       "117324               30.0               28.0              28.0  \n",
       "117325               16.0                4.0              11.0  \n",
       "117326               80.0                8.0              30.0  \n",
       "117327               41.0               21.0              41.0  \n",
       "117328               17.0                8.0              13.0  \n",
       "\n",
       "[117309 rows x 10 columns]"
      ]
     },
     "execution_count": 197,
     "metadata": {},
     "output_type": "execute_result"
    }
   ],
   "source": [
    "price_df"
   ]
  },
  {
   "cell_type": "code",
   "execution_count": 198,
   "metadata": {},
   "outputs": [],
   "source": [
    "num_features_price = ['price', 'freight_value',  'product_weight_g', 'product_length_cm', 'product_height_cm', 'product_width_cm']\n",
    "scaler = StandardScaler()\n",
    "price_df[num_features_price] = scaler.fit_transform(price_df[num_features_price])"
   ]
  },
  {
   "cell_type": "code",
   "execution_count": 199,
   "metadata": {},
   "outputs": [
    {
     "data": {
      "text/html": [
       "<div>\n",
       "<style scoped>\n",
       "    .dataframe tbody tr th:only-of-type {\n",
       "        vertical-align: middle;\n",
       "    }\n",
       "\n",
       "    .dataframe tbody tr th {\n",
       "        vertical-align: top;\n",
       "    }\n",
       "\n",
       "    .dataframe thead th {\n",
       "        text-align: right;\n",
       "    }\n",
       "</style>\n",
       "<table border=\"1\" class=\"dataframe\">\n",
       "  <thead>\n",
       "    <tr style=\"text-align: right;\">\n",
       "      <th></th>\n",
       "      <th>price</th>\n",
       "      <th>freight_value</th>\n",
       "      <th>review_score</th>\n",
       "      <th>payment_sequential</th>\n",
       "      <th>payment_installments</th>\n",
       "      <th>payment_value</th>\n",
       "      <th>product_weight_g</th>\n",
       "      <th>product_length_cm</th>\n",
       "      <th>product_height_cm</th>\n",
       "      <th>product_width_cm</th>\n",
       "    </tr>\n",
       "  </thead>\n",
       "  <tbody>\n",
       "    <tr>\n",
       "      <th>0</th>\n",
       "      <td>-0.495042</td>\n",
       "      <td>-0.714399</td>\n",
       "      <td>4</td>\n",
       "      <td>1</td>\n",
       "      <td>1</td>\n",
       "      <td>18.12</td>\n",
       "      <td>-0.425552</td>\n",
       "      <td>-0.695688</td>\n",
       "      <td>-0.640211</td>\n",
       "      <td>-0.857450</td>\n",
       "    </tr>\n",
       "    <tr>\n",
       "      <th>1</th>\n",
       "      <td>-0.495042</td>\n",
       "      <td>-0.714399</td>\n",
       "      <td>4</td>\n",
       "      <td>3</td>\n",
       "      <td>1</td>\n",
       "      <td>2.00</td>\n",
       "      <td>-0.425552</td>\n",
       "      <td>-0.695688</td>\n",
       "      <td>-0.640211</td>\n",
       "      <td>-0.857450</td>\n",
       "    </tr>\n",
       "    <tr>\n",
       "      <th>2</th>\n",
       "      <td>-0.495042</td>\n",
       "      <td>-0.714399</td>\n",
       "      <td>4</td>\n",
       "      <td>2</td>\n",
       "      <td>1</td>\n",
       "      <td>18.59</td>\n",
       "      <td>-0.425552</td>\n",
       "      <td>-0.695688</td>\n",
       "      <td>-0.640211</td>\n",
       "      <td>-0.857450</td>\n",
       "    </tr>\n",
       "    <tr>\n",
       "      <th>3</th>\n",
       "      <td>-0.495042</td>\n",
       "      <td>-0.773784</td>\n",
       "      <td>4</td>\n",
       "      <td>1</td>\n",
       "      <td>3</td>\n",
       "      <td>37.77</td>\n",
       "      <td>-0.425552</td>\n",
       "      <td>-0.695688</td>\n",
       "      <td>-0.640211</td>\n",
       "      <td>-0.857450</td>\n",
       "    </tr>\n",
       "    <tr>\n",
       "      <th>4</th>\n",
       "      <td>-0.495042</td>\n",
       "      <td>-0.773784</td>\n",
       "      <td>5</td>\n",
       "      <td>1</td>\n",
       "      <td>1</td>\n",
       "      <td>37.77</td>\n",
       "      <td>-0.425552</td>\n",
       "      <td>-0.695688</td>\n",
       "      <td>-0.640211</td>\n",
       "      <td>-0.857450</td>\n",
       "    </tr>\n",
       "    <tr>\n",
       "      <th>...</th>\n",
       "      <td>...</td>\n",
       "      <td>...</td>\n",
       "      <td>...</td>\n",
       "      <td>...</td>\n",
       "      <td>...</td>\n",
       "      <td>...</td>\n",
       "      <td>...</td>\n",
       "      <td>...</td>\n",
       "      <td>...</td>\n",
       "      <td>...</td>\n",
       "    </tr>\n",
       "    <tr>\n",
       "      <th>117324</th>\n",
       "      <td>-0.227052</td>\n",
       "      <td>-0.372625</td>\n",
       "      <td>5</td>\n",
       "      <td>1</td>\n",
       "      <td>1</td>\n",
       "      <td>93.13</td>\n",
       "      <td>-0.359504</td>\n",
       "      <td>-0.015729</td>\n",
       "      <td>0.846494</td>\n",
       "      <td>0.419600</td>\n",
       "    </tr>\n",
       "    <tr>\n",
       "      <th>117325</th>\n",
       "      <td>-0.551309</td>\n",
       "      <td>-0.572888</td>\n",
       "      <td>1</td>\n",
       "      <td>1</td>\n",
       "      <td>1</td>\n",
       "      <td>30.66</td>\n",
       "      <td>-0.451971</td>\n",
       "      <td>-0.881131</td>\n",
       "      <td>-0.937552</td>\n",
       "      <td>-1.027723</td>\n",
       "    </tr>\n",
       "    <tr>\n",
       "      <th>117326</th>\n",
       "      <td>1.522733</td>\n",
       "      <td>1.581997</td>\n",
       "      <td>5</td>\n",
       "      <td>1</td>\n",
       "      <td>1</td>\n",
       "      <td>444.07</td>\n",
       "      <td>-0.002844</td>\n",
       "      <td>3.074993</td>\n",
       "      <td>-0.640211</td>\n",
       "      <td>0.589873</td>\n",
       "    </tr>\n",
       "    <tr>\n",
       "      <th>117327</th>\n",
       "      <td>0.543401</td>\n",
       "      <td>0.258489</td>\n",
       "      <td>4</td>\n",
       "      <td>1</td>\n",
       "      <td>4</td>\n",
       "      <td>244.02</td>\n",
       "      <td>1.001090</td>\n",
       "      <td>0.664230</td>\n",
       "      <td>0.326148</td>\n",
       "      <td>1.526376</td>\n",
       "    </tr>\n",
       "    <tr>\n",
       "      <th>117328</th>\n",
       "      <td>-0.574275</td>\n",
       "      <td>-0.457279</td>\n",
       "      <td>5</td>\n",
       "      <td>1</td>\n",
       "      <td>1</td>\n",
       "      <td>28.29</td>\n",
       "      <td>-0.535721</td>\n",
       "      <td>-0.819317</td>\n",
       "      <td>-0.640211</td>\n",
       "      <td>-0.857450</td>\n",
       "    </tr>\n",
       "  </tbody>\n",
       "</table>\n",
       "<p>117309 rows × 10 columns</p>\n",
       "</div>"
      ],
      "text/plain": [
       "           price  freight_value  review_score  payment_sequential  \\\n",
       "0      -0.495042      -0.714399             4                   1   \n",
       "1      -0.495042      -0.714399             4                   3   \n",
       "2      -0.495042      -0.714399             4                   2   \n",
       "3      -0.495042      -0.773784             4                   1   \n",
       "4      -0.495042      -0.773784             5                   1   \n",
       "...          ...            ...           ...                 ...   \n",
       "117324 -0.227052      -0.372625             5                   1   \n",
       "117325 -0.551309      -0.572888             1                   1   \n",
       "117326  1.522733       1.581997             5                   1   \n",
       "117327  0.543401       0.258489             4                   1   \n",
       "117328 -0.574275      -0.457279             5                   1   \n",
       "\n",
       "        payment_installments  payment_value  product_weight_g  \\\n",
       "0                          1          18.12         -0.425552   \n",
       "1                          1           2.00         -0.425552   \n",
       "2                          1          18.59         -0.425552   \n",
       "3                          3          37.77         -0.425552   \n",
       "4                          1          37.77         -0.425552   \n",
       "...                      ...            ...               ...   \n",
       "117324                     1          93.13         -0.359504   \n",
       "117325                     1          30.66         -0.451971   \n",
       "117326                     1         444.07         -0.002844   \n",
       "117327                     4         244.02          1.001090   \n",
       "117328                     1          28.29         -0.535721   \n",
       "\n",
       "        product_length_cm  product_height_cm  product_width_cm  \n",
       "0               -0.695688          -0.640211         -0.857450  \n",
       "1               -0.695688          -0.640211         -0.857450  \n",
       "2               -0.695688          -0.640211         -0.857450  \n",
       "3               -0.695688          -0.640211         -0.857450  \n",
       "4               -0.695688          -0.640211         -0.857450  \n",
       "...                   ...                ...               ...  \n",
       "117324          -0.015729           0.846494          0.419600  \n",
       "117325          -0.881131          -0.937552         -1.027723  \n",
       "117326           3.074993          -0.640211          0.589873  \n",
       "117327           0.664230           0.326148          1.526376  \n",
       "117328          -0.819317          -0.640211         -0.857450  \n",
       "\n",
       "[117309 rows x 10 columns]"
      ]
     },
     "execution_count": 199,
     "metadata": {},
     "output_type": "execute_result"
    }
   ],
   "source": [
    "price_df"
   ]
  },
  {
   "cell_type": "code",
   "execution_count": 280,
   "metadata": {},
   "outputs": [],
   "source": [
    "price_df = price_df[price_df['payment_value'] <= 500]"
   ]
  },
  {
   "cell_type": "code",
   "execution_count": 281,
   "metadata": {},
   "outputs": [],
   "source": [
    "final_price_df = price_df"
   ]
  },
  {
   "cell_type": "code",
   "execution_count": 282,
   "metadata": {},
   "outputs": [
    {
     "name": "stdout",
     "output_type": "stream",
     "text": [
      "<class 'pandas.core.frame.DataFrame'>\n",
      "Int64Index: 111217 entries, 0 to 117328\n",
      "Data columns (total 10 columns):\n",
      " #   Column                Non-Null Count   Dtype  \n",
      "---  ------                --------------   -----  \n",
      " 0   price                 111217 non-null  float64\n",
      " 1   freight_value         111217 non-null  float64\n",
      " 2   review_score          111217 non-null  int64  \n",
      " 3   payment_sequential    111217 non-null  int64  \n",
      " 4   payment_installments  111217 non-null  int64  \n",
      " 5   payment_value         111217 non-null  float64\n",
      " 6   product_weight_g      111217 non-null  float64\n",
      " 7   product_length_cm     111217 non-null  float64\n",
      " 8   product_height_cm     111217 non-null  float64\n",
      " 9   product_width_cm      111217 non-null  float64\n",
      "dtypes: float64(7), int64(3)\n",
      "memory usage: 9.3 MB\n"
     ]
    }
   ],
   "source": [
    "price_df.info()"
   ]
  },
  {
   "attachments": {},
   "cell_type": "markdown",
   "metadata": {},
   "source": [
    "#### model "
   ]
  },
  {
   "cell_type": "code",
   "execution_count": 201,
   "metadata": {},
   "outputs": [],
   "source": [
    "from sklearn.model_selection import train_test_split\n",
    "X_train, X_test, y_train, y_test = train_test_split(price_df.drop(columns=['payment_value']),price_df.payment_value, test_size=0.20,  random_state=42)"
   ]
  },
  {
   "cell_type": "code",
   "execution_count": 186,
   "metadata": {},
   "outputs": [],
   "source": [
    "# # Define models to be trained\n",
    "# models = {\n",
    "#     \"Logistic Regression\": LogisticRegression(max_iter=3000,solver=\"liblinear\"),\n",
    "    \n",
    "#     \"Decision Tree\": DecisionTreeClassifier(),\n",
    "#     \"Random Forest\": RandomForestClassifier(),\n",
    "#     \"Gradient Boost\": GradientBoostingClassifier(),\n",
    "#     \"Support Vector Machine\": SVC()\n",
    "# }\n",
    "\n",
    "# # Define number of samples to use for cross-validation\n",
    "# n_samples = 10000\n",
    "\n",
    "# # Create stratified folds\n",
    "# skf = StratifiedKFold(n_splits=5, shuffle=True, random_state=42)\n",
    "\n",
    "\n",
    "# # Create empty dictionaries to store accuracy and f1 scores for each model\n",
    "# train_df_accuracy_scores = {}\n",
    "# train_df_f1_scores = {}\n",
    "# train_df_classification_reports = {}"
   ]
  },
  {
   "cell_type": "code",
   "execution_count": 283,
   "metadata": {},
   "outputs": [],
   "source": [
    "from sklearn.model_selection import train_test_split\n",
    "from sklearn.linear_model import LinearRegression, Ridge, Lasso, ElasticNet\n",
    "from sklearn.metrics import mean_squared_error, r2_score\n",
    "from sklearn.ensemble import RandomForestRegressor, GradientBoostingRegressor\n",
    "from sklearn.metrics import mean_absolute_error, mean_squared_error, r2_score\n",
    "import matplotlib.pyplot as plt\n",
    "\n",
    "\n",
    "# define a list of regression models to try\n",
    "models = {\n",
    "    \"Linear Regression\":LinearRegression(),\n",
    "    \"Ridge\":Ridge(alpha=0.5),\n",
    "    \"Lasso\":Lasso(alpha=0.1),\n",
    "    \"ElasticNet\":ElasticNet(alpha=0.1, l1_ratio=0.5),\n",
    "    \"Random Forest Regression\":RandomForestRegressor(n_estimators=100, max_depth=10, random_state=42),\n",
    "    \"Gradient Boosting\":GradientBoostingRegressor(n_estimators=100, max_depth=10, random_state=42)\n",
    "}\n",
    "\n",
    "\n",
    "\n"
   ]
  },
  {
   "cell_type": "code",
   "execution_count": 284,
   "metadata": {},
   "outputs": [
    {
     "data": {
      "text/plain": [
       "{'Linear Regression': LinearRegression(),\n",
       " 'Ridge': Ridge(alpha=0.5),\n",
       " 'Lasso': Lasso(alpha=0.1),\n",
       " 'ElasticNet': ElasticNet(alpha=0.1),\n",
       " 'Random Forest Regression': RandomForestRegressor(max_depth=10, random_state=42),\n",
       " 'Gradient Boosting': GradientBoostingRegressor(max_depth=10, random_state=42)}"
      ]
     },
     "execution_count": 284,
     "metadata": {},
     "output_type": "execute_result"
    }
   ],
   "source": [
    "models"
   ]
  },
  {
   "cell_type": "code",
   "execution_count": 285,
   "metadata": {},
   "outputs": [
    {
     "data": {
      "text/plain": [
       "dict_values([LinearRegression(), Ridge(alpha=0.5), Lasso(alpha=0.1), ElasticNet(alpha=0.1), RandomForestRegressor(max_depth=10, random_state=42), GradientBoostingRegressor(max_depth=10, random_state=42)])"
      ]
     },
     "execution_count": 285,
     "metadata": {},
     "output_type": "execute_result"
    }
   ],
   "source": [
    "models.values()"
   ]
  },
  {
   "cell_type": "code",
   "execution_count": 286,
   "metadata": {},
   "outputs": [
    {
     "name": "stdout",
     "output_type": "stream",
     "text": [
      "LinearRegression()\n",
      "Ridge(alpha=0.5)\n",
      "Lasso(alpha=0.1)\n",
      "ElasticNet(alpha=0.1)\n",
      "RandomForestRegressor(max_depth=10, random_state=42)\n",
      "GradientBoostingRegressor(max_depth=10, random_state=42)\n"
     ]
    }
   ],
   "source": [
    "for i in models.items():\n",
    "    print(i[1])"
   ]
  },
  {
   "cell_type": "code",
   "execution_count": 287,
   "metadata": {},
   "outputs": [
    {
     "name": "stderr",
     "output_type": "stream",
     "text": [
      "Fitting models:  50%|█████     | 3/6 [00:00<00:00, 28.97model/s]"
     ]
    },
    {
     "name": "stdout",
     "output_type": "stream",
     "text": [
      "LinearRegression()\n",
      "57.83111881537815\n",
      "MSE= 23172.907774198105\n",
      "r2= 0.6219038233864207\n",
      "\n",
      "Ridge(alpha=0.5)\n",
      "57.83100904875404\n",
      "MSE= 23172.889343997085\n",
      "r2= 0.6219041240991585\n",
      "\n",
      "Lasso(alpha=0.1)\n",
      "57.8120988598567\n",
      "MSE= 23170.94068070467\n",
      "r2= 0.621935919079208\n",
      "\n",
      "ElasticNet(alpha=0.1)\n",
      "57.26105402874106\n",
      "MSE= 23107.185881091977\n",
      "r2= 0.6229761616853242\n",
      "\n"
     ]
    },
    {
     "name": "stderr",
     "output_type": "stream",
     "text": [
      "Fitting models:  83%|████████▎ | 5/6 [00:16<00:04,  4.09s/model]"
     ]
    },
    {
     "name": "stdout",
     "output_type": "stream",
     "text": [
      "RandomForestRegressor(max_depth=10, random_state=42)\n",
      "50.32588652434112\n",
      "MSE= 11201.047605561109\n",
      "r2= 0.8172403172274785\n",
      "\n"
     ]
    },
    {
     "name": "stderr",
     "output_type": "stream",
     "text": [
      "Fitting models: 100%|██████████| 6/6 [00:41<00:00,  7.00s/model]"
     ]
    },
    {
     "name": "stdout",
     "output_type": "stream",
     "text": [
      "GradientBoostingRegressor(max_depth=10, random_state=42)\n",
      "39.94647045835827\n",
      "MSE= 7112.118837261988\n",
      "r2= 0.8839565165410828\n",
      "\n"
     ]
    },
    {
     "name": "stderr",
     "output_type": "stream",
     "text": [
      "\n"
     ]
    }
   ],
   "source": [
    "# Define a dictionary to store the metrics for each model\n",
    "metrics = {}\n",
    "\n",
    "\n",
    "for name, model in tqdm(models.items(), desc='Fitting models', unit='model'):\n",
    "    # Fit the model\n",
    "    model.fit(X_train, y_train)\n",
    "\n",
    "    # Make predictions on the test set\n",
    "    y_pred = model.predict(X_test)\n",
    "\n",
    "    # Compute the metrics\n",
    "    mae = mean_absolute_error(y_test, y_pred)\n",
    "    mse = mean_squared_error(y_test, y_pred)\n",
    "    r2 = r2_score(y_test, y_pred)\n",
    "\n",
    "    # Save the metrics in the dictionary\n",
    "    metrics[name] = {'MAE': mae, 'MSE': mse, 'R2': r2}\n",
    "\n",
    "    print(model)\n",
    "    print(mae)\n",
    "    print(\"MSE=\",mse)\n",
    "    print(\"r2=\",r2)\n",
    "\n",
    "    print(\"\")\n",
    "\n"
   ]
  },
  {
   "cell_type": "code",
   "execution_count": 288,
   "metadata": {},
   "outputs": [
    {
     "data": {
      "text/plain": [
       "{'Linear Regression': {'MAE': 57.83111881537815,\n",
       "  'MSE': 23172.907774198105,\n",
       "  'R2': 0.6219038233864207},\n",
       " 'Ridge': {'MAE': 57.83100904875404,\n",
       "  'MSE': 23172.889343997085,\n",
       "  'R2': 0.6219041240991585},\n",
       " 'Lasso': {'MAE': 57.8120988598567,\n",
       "  'MSE': 23170.94068070467,\n",
       "  'R2': 0.621935919079208},\n",
       " 'ElasticNet': {'MAE': 57.26105402874106,\n",
       "  'MSE': 23107.185881091977,\n",
       "  'R2': 0.6229761616853242},\n",
       " 'Random Forest Regression': {'MAE': 50.32588652434112,\n",
       "  'MSE': 11201.047605561109,\n",
       "  'R2': 0.8172403172274785},\n",
       " 'Gradient Boosting': {'MAE': 39.94647045835827,\n",
       "  'MSE': 7112.118837261988,\n",
       "  'R2': 0.8839565165410828}}"
      ]
     },
     "execution_count": 288,
     "metadata": {},
     "output_type": "execute_result"
    }
   ],
   "source": [
    "metrics"
   ]
  },
  {
   "cell_type": "code",
   "execution_count": 289,
   "metadata": {},
   "outputs": [
    {
     "data": {
      "image/png": "[encoded data removed]",
      "text/plain": [
       "<Figure size 576x432 with 1 Axes>"
      ]
     },
     "metadata": {
      "needs_background": "light"
     },
     "output_type": "display_data"
    }
   ],
   "source": [
    "fig, ax = plt.subplots(figsize=(8, 6))\n",
    "for name, metric in metrics.items():\n",
    "    ax.bar(name, metric['R2'])\n",
    "ax.set_ylabel('R2')\n",
    "plt.xticks(rotation=45)\n",
    "ax.set_title('Model Comparison')\n",
    "plt.show()"
   ]
  },
  {
   "cell_type": "code",
   "execution_count": 303,
   "metadata": {},
   "outputs": [
    {
     "data": {
      "image/png": "[encoded data removed]",
      "text/plain": [
       "<Figure size 576x432 with 1 Axes>"
      ]
     },
     "metadata": {},
     "output_type": "display_data"
    }
   ],
   "source": [
    "fig, ax = plt.subplots(figsize=(8, 6))\n",
    "for name, metric in metrics.items():\n",
    "    ax.bar(name, metric['MSE'])\n",
    "ax.set_xlabel('MSE')\n",
    "plt.xticks(rotation=45)\n",
    "ax.set_title('Model Comparison')\n",
    "plt.show()\n",
    "\n"
   ]
  },
  {
   "cell_type": "code",
   "execution_count": null,
   "metadata": {},
   "outputs": [],
   "source": [
    "plt.bar()"
   ]
  },
  {
   "attachments": {},
   "cell_type": "markdown",
   "metadata": {},
   "source": [
    "## hyperparameter "
   ]
  },
  {
   "cell_type": "code",
   "execution_count": 290,
   "metadata": {},
   "outputs": [],
   "source": [
    "import pandas as pd\n",
    "from sklearn.model_selection import train_test_split\n",
    "\n",
    "\n",
    "\n",
    "# Create a smaller subset of the data\n",
    "subset = price_df.sample(frac=1, random_state=42)\n",
    "\n",
    "# Split the data into train and test sets\n",
    "X_train, X_test, y_train, y_test = train_test_split(subset.drop('payment_value', axis=1),\n",
    "                                                    subset['payment_value'], \n",
    "                                                    test_size=0.3, \n",
    "                                                    random_state=42)\n"
   ]
  },
  {
   "cell_type": "code",
   "execution_count": 291,
   "metadata": {},
   "outputs": [],
   "source": [
    "import optuna\n",
    "from sklearn.ensemble import GradientBoostingRegressor\n",
    "from sklearn.metrics import mean_absolute_error\n",
    "\n",
    "# Define the objective function for Optuna to optimize\n",
    "def objective(trial):\n",
    "    # Define the hyperparameters to optimize\n",
    "    params = {\n",
    "        'n_estimators': trial.suggest_int('n_estimators', 100, 1000, 100),\n",
    "        'learning_rate': trial.suggest_loguniform('learning_rate', 0.001, 1),\n",
    "        'max_depth': trial.suggest_int('max_depth', 3, 10),\n",
    "        'min_samples_split': trial.suggest_int('min_samples_split', 2, 20),\n",
    "        'min_samples_leaf': trial.suggest_int('min_samples_leaf', 1, 10)\n",
    "    }\n",
    "    \n",
    "    # Create the model with the given hyperparameters\n",
    "    model = GradientBoostingRegressor(**params)\n",
    "    \n",
    "    # Train the model and make predictions\n",
    "    model.fit(X_train, y_train)\n",
    "    y_pred = model.predict(X_test)\n",
    "    \n",
    "    # Compute the mean absolute error on the test set\n",
    "    mae = mean_absolute_error(y_test, y_pred)\n",
    "    \n",
    "    return mae\n",
    "\n"
   ]
  },
  {
   "cell_type": "code",
   "execution_count": null,
   "metadata": {},
   "outputs": [],
   "source": [
    "# import optuna\n",
    "# from tqdm import tqdm\n",
    "\n",
    "# def objective(trial):\n",
    "#     # Define the hyperparameters to optimize\n",
    "#     params = {\n",
    "#         'n_estimators': trial.suggest_int('n_estimators', 50, 200),\n",
    "#         'learning_rate': trial.suggest_uniform('learning_rate', 0.01, 0.5),\n",
    "#         'max_depth': trial.suggest_int('max_depth', 2, 10),\n",
    "#         'min_samples_split': trial.suggest_int('min_samples_split', 2, 10),\n",
    "#         'min_samples_leaf': trial.suggest_int('min_samples_leaf', 1, 10),\n",
    "#         'subsample': trial.suggest_uniform('subsample', 0.5, 1),\n",
    "#         'max_features': trial.suggest_uniform('max_features', 0.1, 1)\n",
    "#     }\n",
    "\n",
    "#     # Create a gradient boosting model with the given hyperparameters\n",
    "#     model = GradientBoostingRegressor(**params)\n",
    "\n",
    "#     # Fit the model with tqdm to monitor the progress\n",
    "#     model.fit(X_train, y_train)\n",
    "\n",
    "#     # Make predictions on the test set\n",
    "#     y_pred = model.predict(X_test)\n",
    "\n",
    "#     # Compute the metrics\n",
    "#     mse = mean_squared_error(y_test, y_pred)\n",
    "\n",
    "#     return mse"
   ]
  },
  {
   "cell_type": "code",
   "execution_count": 293,
   "metadata": {},
   "outputs": [],
   "source": [
    "# # Run the hyperparameter search with tqdm to monitor the progress\n",
    "# study = optuna.create_study(direction='minimize')\n",
    "# with tqdm(total=10, desc='Optimizing', unit='%') as progress_bar:\n",
    "#     study.optimize(objective, n_trials=10)\n",
    "#     progress_bar.update(1)"
   ]
  },
  {
   "cell_type": "code",
   "execution_count": 294,
   "metadata": {},
   "outputs": [
    {
     "name": "stderr",
     "output_type": "stream",
     "text": [
      "\u001b[32m[I 2023-04-27 00:54:58,990]\u001b[0m A new study created in memory with name: no-name-754d11e4-528e-417f-873f-ebbe9dffc222\u001b[0m\n",
      "  0%|          | 0/5 [00:00<?, ?it/s]C:\\Users\\kevin\\AppData\\Local\\Temp\\ipykernel_38256\\284204161.py:10: FutureWarning: suggest_loguniform has been deprecated in v3.0.0. This feature will be removed in v6.0.0. See https://github.com/optuna/optuna/releases/tag/v3.0.0. Use :func:`~optuna.trial.Trial.suggest_float` instead.\n",
      "  'learning_rate': trial.suggest_loguniform('learning_rate', 0.001, 1),\n",
      "\u001b[32m[I 2023-04-27 00:55:24,123]\u001b[0m Trial 0 finished with value: 30.77992098439025 and parameters: {'n_estimators': 800, 'learning_rate': 0.18174749936081952, 'max_depth': 5, 'min_samples_split': 4, 'min_samples_leaf': 3}. Best is trial 0 with value: 30.77992098439025.\u001b[0m\n",
      "C:\\Users\\kevin\\AppData\\Local\\Temp\\ipykernel_38256\\284204161.py:10: FutureWarning: suggest_loguniform has been deprecated in v3.0.0. This feature will be removed in v6.0.0. See https://github.com/optuna/optuna/releases/tag/v3.0.0. Use :func:`~optuna.trial.Trial.suggest_float` instead.\n",
      "  'learning_rate': trial.suggest_loguniform('learning_rate', 0.001, 1),\n",
      "\u001b[32m[I 2023-04-27 00:55:50,185]\u001b[0m Trial 1 finished with value: 30.823959611143582 and parameters: {'n_estimators': 600, 'learning_rate': 0.02042230354828589, 'max_depth': 7, 'min_samples_split': 9, 'min_samples_leaf': 9}. Best is trial 0 with value: 30.77992098439025.\u001b[0m\n",
      "C:\\Users\\kevin\\AppData\\Local\\Temp\\ipykernel_38256\\284204161.py:10: FutureWarning: suggest_loguniform has been deprecated in v3.0.0. This feature will be removed in v6.0.0. See https://github.com/optuna/optuna/releases/tag/v3.0.0. Use :func:`~optuna.trial.Trial.suggest_float` instead.\n",
      "  'learning_rate': trial.suggest_loguniform('learning_rate', 0.001, 1),\n",
      "\u001b[32m[I 2023-04-27 00:56:15,972]\u001b[0m Trial 2 finished with value: 31.13285514094946 and parameters: {'n_estimators': 600, 'learning_rate': 0.012310493463736643, 'max_depth': 7, 'min_samples_split': 3, 'min_samples_leaf': 8}. Best is trial 0 with value: 30.77992098439025.\u001b[0m\n",
      "C:\\Users\\kevin\\AppData\\Local\\Temp\\ipykernel_38256\\284204161.py:10: FutureWarning: suggest_loguniform has been deprecated in v3.0.0. This feature will be removed in v6.0.0. See https://github.com/optuna/optuna/releases/tag/v3.0.0. Use :func:`~optuna.trial.Trial.suggest_float` instead.\n",
      "  'learning_rate': trial.suggest_loguniform('learning_rate', 0.001, 1),\n",
      "\u001b[32m[I 2023-04-27 00:56:31,577]\u001b[0m Trial 3 finished with value: 48.25580967840963 and parameters: {'n_estimators': 400, 'learning_rate': 0.0019091740817279693, 'max_depth': 6, 'min_samples_split': 8, 'min_samples_leaf': 6}. Best is trial 0 with value: 30.77992098439025.\u001b[0m\n",
      "C:\\Users\\kevin\\AppData\\Local\\Temp\\ipykernel_38256\\284204161.py:10: FutureWarning: suggest_loguniform has been deprecated in v3.0.0. This feature will be removed in v6.0.0. See https://github.com/optuna/optuna/releases/tag/v3.0.0. Use :func:`~optuna.trial.Trial.suggest_float` instead.\n",
      "  'learning_rate': trial.suggest_loguniform('learning_rate', 0.001, 1),\n",
      "\u001b[32m[I 2023-04-27 00:57:22,345]\u001b[0m Trial 4 finished with value: 33.98094432687462 and parameters: {'n_estimators': 900, 'learning_rate': 0.0022923580710587383, 'max_depth': 9, 'min_samples_split': 2, 'min_samples_leaf': 5}. Best is trial 0 with value: 30.77992098439025.\u001b[0m\n",
      "C:\\Users\\kevin\\AppData\\Local\\Temp\\ipykernel_38256\\284204161.py:10: FutureWarning: suggest_loguniform has been deprecated in v3.0.0. This feature will be removed in v6.0.0. See https://github.com/optuna/optuna/releases/tag/v3.0.0. Use :func:`~optuna.trial.Trial.suggest_float` instead.\n",
      "  'learning_rate': trial.suggest_loguniform('learning_rate', 0.001, 1),\n",
      "\u001b[32m[I 2023-04-27 00:58:04,613]\u001b[0m Trial 5 finished with value: 29.854402240804212 and parameters: {'n_estimators': 600, 'learning_rate': 0.08515298987224697, 'max_depth': 10, 'min_samples_split': 10, 'min_samples_leaf': 3}. Best is trial 5 with value: 29.854402240804212.\u001b[0m\n",
      "C:\\Users\\kevin\\AppData\\Local\\Temp\\ipykernel_38256\\284204161.py:10: FutureWarning: suggest_loguniform has been deprecated in v3.0.0. This feature will be removed in v6.0.0. See https://github.com/optuna/optuna/releases/tag/v3.0.0. Use :func:`~optuna.trial.Trial.suggest_float` instead.\n",
      "  'learning_rate': trial.suggest_loguniform('learning_rate', 0.001, 1),\n",
      "\u001b[32m[I 2023-04-27 00:58:41,047]\u001b[0m Trial 6 finished with value: 31.368052112987222 and parameters: {'n_estimators': 600, 'learning_rate': 0.16620463141617833, 'max_depth': 9, 'min_samples_split': 18, 'min_samples_leaf': 9}. Best is trial 5 with value: 29.854402240804212.\u001b[0m\n",
      "C:\\Users\\kevin\\AppData\\Local\\Temp\\ipykernel_38256\\284204161.py:10: FutureWarning: suggest_loguniform has been deprecated in v3.0.0. This feature will be removed in v6.0.0. See https://github.com/optuna/optuna/releases/tag/v3.0.0. Use :func:`~optuna.trial.Trial.suggest_float` instead.\n",
      "  'learning_rate': trial.suggest_loguniform('learning_rate', 0.001, 1),\n",
      "\u001b[32m[I 2023-04-27 00:58:49,311]\u001b[0m Trial 7 finished with value: 42.073697564269786 and parameters: {'n_estimators': 400, 'learning_rate': 0.003452826611045137, 'max_depth': 3, 'min_samples_split': 14, 'min_samples_leaf': 2}. Best is trial 5 with value: 29.854402240804212.\u001b[0m\n",
      "C:\\Users\\kevin\\AppData\\Local\\Temp\\ipykernel_38256\\284204161.py:10: FutureWarning: suggest_loguniform has been deprecated in v3.0.0. This feature will be removed in v6.0.0. See https://github.com/optuna/optuna/releases/tag/v3.0.0. Use :func:`~optuna.trial.Trial.suggest_float` instead.\n",
      "  'learning_rate': trial.suggest_loguniform('learning_rate', 0.001, 1),\n",
      "\u001b[32m[I 2023-04-27 00:59:34,877]\u001b[0m Trial 8 finished with value: 30.46944598168988 and parameters: {'n_estimators': 1000, 'learning_rate': 0.015230594349261696, 'max_depth': 7, 'min_samples_split': 15, 'min_samples_leaf': 2}. Best is trial 5 with value: 29.854402240804212.\u001b[0m\n",
      "C:\\Users\\kevin\\AppData\\Local\\Temp\\ipykernel_38256\\284204161.py:10: FutureWarning: suggest_loguniform has been deprecated in v3.0.0. This feature will be removed in v6.0.0. See https://github.com/optuna/optuna/releases/tag/v3.0.0. Use :func:`~optuna.trial.Trial.suggest_float` instead.\n",
      "  'learning_rate': trial.suggest_loguniform('learning_rate', 0.001, 1),\n",
      "\u001b[32m[I 2023-04-27 00:59:50,606]\u001b[0m Trial 9 finished with value: 31.486246110813877 and parameters: {'n_estimators': 500, 'learning_rate': 0.025245194667887324, 'max_depth': 5, 'min_samples_split': 12, 'min_samples_leaf': 10}. Best is trial 5 with value: 29.854402240804212.\u001b[0m\n",
      " 20%|██        | 1/5 [04:51<19:26, 291.61s/it]C:\\Users\\kevin\\AppData\\Local\\Temp\\ipykernel_38256\\284204161.py:10: FutureWarning: suggest_loguniform has been deprecated in v3.0.0. This feature will be removed in v6.0.0. See https://github.com/optuna/optuna/releases/tag/v3.0.0. Use :func:`~optuna.trial.Trial.suggest_float` instead.\n",
      "  'learning_rate': trial.suggest_loguniform('learning_rate', 0.001, 1),\n",
      "\u001b[32m[I 2023-04-27 01:00:05,193]\u001b[0m Trial 10 finished with value: 40.561640729574464 and parameters: {'n_estimators': 200, 'learning_rate': 0.8557526050824434, 'max_depth': 10, 'min_samples_split': 20, 'min_samples_leaf': 4}. Best is trial 5 with value: 29.854402240804212.\u001b[0m\n",
      "C:\\Users\\kevin\\AppData\\Local\\Temp\\ipykernel_38256\\284204161.py:10: FutureWarning: suggest_loguniform has been deprecated in v3.0.0. This feature will be removed in v6.0.0. See https://github.com/optuna/optuna/releases/tag/v3.0.0. Use :func:`~optuna.trial.Trial.suggest_float` instead.\n",
      "  'learning_rate': trial.suggest_loguniform('learning_rate', 0.001, 1),\n",
      "\u001b[32m[I 2023-04-27 01:00:58,083]\u001b[0m Trial 11 finished with value: 29.875966716454183 and parameters: {'n_estimators': 1000, 'learning_rate': 0.05589269894057287, 'max_depth': 8, 'min_samples_split': 16, 'min_samples_leaf': 1}. Best is trial 5 with value: 29.854402240804212.\u001b[0m\n",
      "C:\\Users\\kevin\\AppData\\Local\\Temp\\ipykernel_38256\\284204161.py:10: FutureWarning: suggest_loguniform has been deprecated in v3.0.0. This feature will be removed in v6.0.0. See https://github.com/optuna/optuna/releases/tag/v3.0.0. Use :func:`~optuna.trial.Trial.suggest_float` instead.\n",
      "  'learning_rate': trial.suggest_loguniform('learning_rate', 0.001, 1),\n",
      "\u001b[32m[I 2023-04-27 01:01:53,916]\u001b[0m Trial 12 finished with value: 29.443734188603383 and parameters: {'n_estimators': 800, 'learning_rate': 0.07791006055805487, 'max_depth': 10, 'min_samples_split': 7, 'min_samples_leaf': 1}. Best is trial 12 with value: 29.443734188603383.\u001b[0m\n",
      "C:\\Users\\kevin\\AppData\\Local\\Temp\\ipykernel_38256\\284204161.py:10: FutureWarning: suggest_loguniform has been deprecated in v3.0.0. This feature will be removed in v6.0.0. See https://github.com/optuna/optuna/releases/tag/v3.0.0. Use :func:`~optuna.trial.Trial.suggest_float` instead.\n",
      "  'learning_rate': trial.suggest_loguniform('learning_rate', 0.001, 1),\n",
      "\u001b[32m[I 2023-04-27 01:02:43,306]\u001b[0m Trial 13 finished with value: 29.35812063939293 and parameters: {'n_estimators': 800, 'learning_rate': 0.08060550977693712, 'max_depth': 10, 'min_samples_split': 7, 'min_samples_leaf': 1}. Best is trial 13 with value: 29.35812063939293.\u001b[0m\n",
      "C:\\Users\\kevin\\AppData\\Local\\Temp\\ipykernel_38256\\284204161.py:10: FutureWarning: suggest_loguniform has been deprecated in v3.0.0. This feature will be removed in v6.0.0. See https://github.com/optuna/optuna/releases/tag/v3.0.0. Use :func:`~optuna.trial.Trial.suggest_float` instead.\n",
      "  'learning_rate': trial.suggest_loguniform('learning_rate', 0.001, 1),\n",
      "\u001b[32m[I 2023-04-27 01:03:26,348]\u001b[0m Trial 14 finished with value: 31.855476506376945 and parameters: {'n_estimators': 800, 'learning_rate': 0.31937104672156696, 'max_depth': 9, 'min_samples_split': 6, 'min_samples_leaf': 1}. Best is trial 13 with value: 29.35812063939293.\u001b[0m\n",
      "C:\\Users\\kevin\\AppData\\Local\\Temp\\ipykernel_38256\\284204161.py:10: FutureWarning: suggest_loguniform has been deprecated in v3.0.0. This feature will be removed in v6.0.0. See https://github.com/optuna/optuna/releases/tag/v3.0.0. Use :func:`~optuna.trial.Trial.suggest_float` instead.\n",
      "  'learning_rate': trial.suggest_loguniform('learning_rate', 0.001, 1),\n",
      "\u001b[32m[I 2023-04-27 01:04:13,955]\u001b[0m Trial 15 finished with value: 29.805598957013302 and parameters: {'n_estimators': 800, 'learning_rate': 0.05395608373948851, 'max_depth': 10, 'min_samples_split': 5, 'min_samples_leaf': 6}. Best is trial 13 with value: 29.35812063939293.\u001b[0m\n",
      "C:\\Users\\kevin\\AppData\\Local\\Temp\\ipykernel_38256\\284204161.py:10: FutureWarning: suggest_loguniform has been deprecated in v3.0.0. This feature will be removed in v6.0.0. See https://github.com/optuna/optuna/releases/tag/v3.0.0. Use :func:`~optuna.trial.Trial.suggest_float` instead.\n",
      "  'learning_rate': trial.suggest_loguniform('learning_rate', 0.001, 1),\n",
      "\u001b[32m[I 2023-04-27 01:04:53,564]\u001b[0m Trial 16 finished with value: 30.8100454313688 and parameters: {'n_estimators': 800, 'learning_rate': 0.007046506583199272, 'max_depth': 8, 'min_samples_split': 7, 'min_samples_leaf': 1}. Best is trial 13 with value: 29.35812063939293.\u001b[0m\n",
      "C:\\Users\\kevin\\AppData\\Local\\Temp\\ipykernel_38256\\284204161.py:10: FutureWarning: suggest_loguniform has been deprecated in v3.0.0. This feature will be removed in v6.0.0. See https://github.com/optuna/optuna/releases/tag/v3.0.0. Use :func:`~optuna.trial.Trial.suggest_float` instead.\n",
      "  'learning_rate': trial.suggest_loguniform('learning_rate', 0.001, 1),\n",
      "\u001b[32m[I 2023-04-27 01:05:07,207]\u001b[0m Trial 17 finished with value: 31.799646584994104 and parameters: {'n_estimators': 700, 'learning_rate': 0.043507640124987465, 'max_depth': 3, 'min_samples_split': 12, 'min_samples_leaf': 4}. Best is trial 13 with value: 29.35812063939293.\u001b[0m\n",
      "C:\\Users\\kevin\\AppData\\Local\\Temp\\ipykernel_38256\\284204161.py:10: FutureWarning: suggest_loguniform has been deprecated in v3.0.0. This feature will be removed in v6.0.0. See https://github.com/optuna/optuna/releases/tag/v3.0.0. Use :func:`~optuna.trial.Trial.suggest_float` instead.\n",
      "  'learning_rate': trial.suggest_loguniform('learning_rate', 0.001, 1),\n",
      "\u001b[32m[I 2023-04-27 01:05:12,252]\u001b[0m Trial 18 finished with value: 30.285312431966428 and parameters: {'n_estimators': 100, 'learning_rate': 0.1008836845210675, 'max_depth': 8, 'min_samples_split': 7, 'min_samples_leaf': 2}. Best is trial 13 with value: 29.35812063939293.\u001b[0m\n",
      "C:\\Users\\kevin\\AppData\\Local\\Temp\\ipykernel_38256\\284204161.py:10: FutureWarning: suggest_loguniform has been deprecated in v3.0.0. This feature will be removed in v6.0.0. See https://github.com/optuna/optuna/releases/tag/v3.0.0. Use :func:`~optuna.trial.Trial.suggest_float` instead.\n",
      "  'learning_rate': trial.suggest_loguniform('learning_rate', 0.001, 1),\n",
      "\u001b[32m[I 2023-04-27 01:06:06,642]\u001b[0m Trial 19 finished with value: 29.741826108385418 and parameters: {'n_estimators': 900, 'learning_rate': 0.03414087719476528, 'max_depth': 10, 'min_samples_split': 11, 'min_samples_leaf': 7}. Best is trial 13 with value: 29.35812063939293.\u001b[0m\n",
      " 40%|████      | 2/5 [11:07<17:03, 341.27s/it]C:\\Users\\kevin\\AppData\\Local\\Temp\\ipykernel_38256\\284204161.py:10: FutureWarning: suggest_loguniform has been deprecated in v3.0.0. This feature will be removed in v6.0.0. See https://github.com/optuna/optuna/releases/tag/v3.0.0. Use :func:`~optuna.trial.Trial.suggest_float` instead.\n",
      "  'learning_rate': trial.suggest_loguniform('learning_rate', 0.001, 1),\n",
      "\u001b[32m[I 2023-04-27 01:06:45,565]\u001b[0m Trial 20 finished with value: 47.12458174315107 and parameters: {'n_estimators': 700, 'learning_rate': 0.001124008179857894, 'max_depth': 9, 'min_samples_split': 5, 'min_samples_leaf': 3}. Best is trial 13 with value: 29.35812063939293.\u001b[0m\n",
      "C:\\Users\\kevin\\AppData\\Local\\Temp\\ipykernel_38256\\284204161.py:10: FutureWarning: suggest_loguniform has been deprecated in v3.0.0. This feature will be removed in v6.0.0. See https://github.com/optuna/optuna/releases/tag/v3.0.0. Use :func:`~optuna.trial.Trial.suggest_float` instead.\n",
      "  'learning_rate': trial.suggest_loguniform('learning_rate', 0.001, 1),\n",
      "\u001b[32m[I 2023-04-27 01:07:38,870]\u001b[0m Trial 21 finished with value: 29.726169229275232 and parameters: {'n_estimators': 900, 'learning_rate': 0.032824296626635864, 'max_depth': 10, 'min_samples_split': 11, 'min_samples_leaf': 7}. Best is trial 13 with value: 29.35812063939293.\u001b[0m\n",
      "C:\\Users\\kevin\\AppData\\Local\\Temp\\ipykernel_38256\\284204161.py:10: FutureWarning: suggest_loguniform has been deprecated in v3.0.0. This feature will be removed in v6.0.0. See https://github.com/optuna/optuna/releases/tag/v3.0.0. Use :func:`~optuna.trial.Trial.suggest_float` instead.\n",
      "  'learning_rate': trial.suggest_loguniform('learning_rate', 0.001, 1),\n",
      "\u001b[32m[I 2023-04-27 01:08:32,851]\u001b[0m Trial 22 finished with value: 30.091248482582568 and parameters: {'n_estimators': 900, 'learning_rate': 0.07680969774857298, 'max_depth': 10, 'min_samples_split': 10, 'min_samples_leaf': 5}. Best is trial 13 with value: 29.35812063939293.\u001b[0m\n",
      "C:\\Users\\kevin\\AppData\\Local\\Temp\\ipykernel_38256\\284204161.py:10: FutureWarning: suggest_loguniform has been deprecated in v3.0.0. This feature will be removed in v6.0.0. See https://github.com/optuna/optuna/releases/tag/v3.0.0. Use :func:`~optuna.trial.Trial.suggest_float` instead.\n",
      "  'learning_rate': trial.suggest_loguniform('learning_rate', 0.001, 1),\n",
      "\u001b[32m[I 2023-04-27 01:09:26,141]\u001b[0m Trial 23 finished with value: 29.89092474340527 and parameters: {'n_estimators': 1000, 'learning_rate': 0.034247870675338216, 'max_depth': 9, 'min_samples_split': 8, 'min_samples_leaf': 7}. Best is trial 13 with value: 29.35812063939293.\u001b[0m\n",
      "C:\\Users\\kevin\\AppData\\Local\\Temp\\ipykernel_38256\\284204161.py:10: FutureWarning: suggest_loguniform has been deprecated in v3.0.0. This feature will be removed in v6.0.0. See https://github.com/optuna/optuna/releases/tag/v3.0.0. Use :func:`~optuna.trial.Trial.suggest_float` instead.\n",
      "  'learning_rate': trial.suggest_loguniform('learning_rate', 0.001, 1),\n",
      "\u001b[32m[I 2023-04-27 01:10:07,784]\u001b[0m Trial 24 finished with value: 30.75171434179423 and parameters: {'n_estimators': 700, 'learning_rate': 0.13111168889164768, 'max_depth': 10, 'min_samples_split': 13, 'min_samples_leaf': 7}. Best is trial 13 with value: 29.35812063939293.\u001b[0m\n",
      "C:\\Users\\kevin\\AppData\\Local\\Temp\\ipykernel_38256\\284204161.py:10: FutureWarning: suggest_loguniform has been deprecated in v3.0.0. This feature will be removed in v6.0.0. See https://github.com/optuna/optuna/releases/tag/v3.0.0. Use :func:`~optuna.trial.Trial.suggest_float` instead.\n",
      "  'learning_rate': trial.suggest_loguniform('learning_rate', 0.001, 1),\n",
      "\u001b[32m[I 2023-04-27 01:35:36,534]\u001b[0m Trial 25 finished with value: 30.47727930622664 and parameters: {'n_estimators': 900, 'learning_rate': 0.010594773323983463, 'max_depth': 8, 'min_samples_split': 9, 'min_samples_leaf': 4}. Best is trial 13 with value: 29.35812063939293.\u001b[0m\n",
      "C:\\Users\\kevin\\AppData\\Local\\Temp\\ipykernel_38256\\284204161.py:10: FutureWarning: suggest_loguniform has been deprecated in v3.0.0. This feature will be removed in v6.0.0. See https://github.com/optuna/optuna/releases/tag/v3.0.0. Use :func:`~optuna.trial.Trial.suggest_float` instead.\n",
      "  'learning_rate': trial.suggest_loguniform('learning_rate', 0.001, 1),\n",
      "\u001b[32m[I 2023-04-27 01:36:53,348]\u001b[0m Trial 26 finished with value: 29.934071171685552 and parameters: {'n_estimators': 700, 'learning_rate': 0.028290404808190988, 'max_depth': 9, 'min_samples_split': 6, 'min_samples_leaf': 8}. Best is trial 13 with value: 29.35812063939293.\u001b[0m\n",
      "C:\\Users\\kevin\\AppData\\Local\\Temp\\ipykernel_38256\\284204161.py:10: FutureWarning: suggest_loguniform has been deprecated in v3.0.0. This feature will be removed in v6.0.0. See https://github.com/optuna/optuna/releases/tag/v3.0.0. Use :func:`~optuna.trial.Trial.suggest_float` instead.\n",
      "  'learning_rate': trial.suggest_loguniform('learning_rate', 0.001, 1),\n",
      "\u001b[32m[I 2023-04-27 01:39:43,426]\u001b[0m Trial 27 finished with value: 29.55898736853799 and parameters: {'n_estimators': 900, 'learning_rate': 0.05452460997910884, 'max_depth': 10, 'min_samples_split': 11, 'min_samples_leaf': 2}. Best is trial 13 with value: 29.35812063939293.\u001b[0m\n",
      "C:\\Users\\kevin\\AppData\\Local\\Temp\\ipykernel_38256\\284204161.py:10: FutureWarning: suggest_loguniform has been deprecated in v3.0.0. This feature will be removed in v6.0.0. See https://github.com/optuna/optuna/releases/tag/v3.0.0. Use :func:`~optuna.trial.Trial.suggest_float` instead.\n",
      "  'learning_rate': trial.suggest_loguniform('learning_rate', 0.001, 1),\n",
      "\u001b[32m[I 2023-04-27 01:40:20,108]\u001b[0m Trial 28 finished with value: 31.10184327471598 and parameters: {'n_estimators': 500, 'learning_rate': 0.06901613390977994, 'max_depth': 4, 'min_samples_split': 8, 'min_samples_leaf': 1}. Best is trial 13 with value: 29.35812063939293.\u001b[0m\n",
      "C:\\Users\\kevin\\AppData\\Local\\Temp\\ipykernel_38256\\284204161.py:10: FutureWarning: suggest_loguniform has been deprecated in v3.0.0. This feature will be removed in v6.0.0. See https://github.com/optuna/optuna/releases/tag/v3.0.0. Use :func:`~optuna.trial.Trial.suggest_float` instead.\n",
      "  'learning_rate': trial.suggest_loguniform('learning_rate', 0.001, 1),\n",
      "\u001b[32m[I 2023-04-27 01:41:48,418]\u001b[0m Trial 29 finished with value: 31.542228994422036 and parameters: {'n_estimators': 800, 'learning_rate': 0.23830216683221092, 'max_depth': 6, 'min_samples_split': 3, 'min_samples_leaf': 2}. Best is trial 13 with value: 29.35812063939293.\u001b[0m\n",
      " 60%|██████    | 3/5 [46:49<38:46, 1163.42s/it]C:\\Users\\kevin\\AppData\\Local\\Temp\\ipykernel_38256\\284204161.py:10: FutureWarning: suggest_loguniform has been deprecated in v3.0.0. This feature will be removed in v6.0.0. See https://github.com/optuna/optuna/releases/tag/v3.0.0. Use :func:`~optuna.trial.Trial.suggest_float` instead.\n",
      "  'learning_rate': trial.suggest_loguniform('learning_rate', 0.001, 1),\n",
      "\u001b[32m[I 2023-04-27 01:43:23,952]\u001b[0m Trial 30 finished with value: 30.541770906306382 and parameters: {'n_estimators': 1000, 'learning_rate': 0.13213079679777442, 'max_depth': 8, 'min_samples_split': 5, 'min_samples_leaf': 3}. Best is trial 13 with value: 29.35812063939293.\u001b[0m\n",
      "C:\\Users\\kevin\\AppData\\Local\\Temp\\ipykernel_38256\\284204161.py:10: FutureWarning: suggest_loguniform has been deprecated in v3.0.0. This feature will be removed in v6.0.0. See https://github.com/optuna/optuna/releases/tag/v3.0.0. Use :func:`~optuna.trial.Trial.suggest_float` instead.\n",
      "  'learning_rate': trial.suggest_loguniform('learning_rate', 0.001, 1),\n",
      "\u001b[32m[I 2023-04-27 01:45:40,449]\u001b[0m Trial 31 finished with value: 29.240681961297156 and parameters: {'n_estimators': 900, 'learning_rate': 0.04701209606298644, 'max_depth': 10, 'min_samples_split': 11, 'min_samples_leaf': 1}. Best is trial 31 with value: 29.240681961297156.\u001b[0m\n",
      "C:\\Users\\kevin\\AppData\\Local\\Temp\\ipykernel_38256\\284204161.py:10: FutureWarning: suggest_loguniform has been deprecated in v3.0.0. This feature will be removed in v6.0.0. See https://github.com/optuna/optuna/releases/tag/v3.0.0. Use :func:`~optuna.trial.Trial.suggest_float` instead.\n",
      "  'learning_rate': trial.suggest_loguniform('learning_rate', 0.001, 1),\n",
      "\u001b[32m[I 2023-04-27 01:46:49,409]\u001b[0m Trial 32 finished with value: 29.27832414212335 and parameters: {'n_estimators': 800, 'learning_rate': 0.051153598408900706, 'max_depth': 10, 'min_samples_split': 10, 'min_samples_leaf': 1}. Best is trial 31 with value: 29.240681961297156.\u001b[0m\n",
      "C:\\Users\\kevin\\AppData\\Local\\Temp\\ipykernel_38256\\284204161.py:10: FutureWarning: suggest_loguniform has been deprecated in v3.0.0. This feature will be removed in v6.0.0. See https://github.com/optuna/optuna/releases/tag/v3.0.0. Use :func:`~optuna.trial.Trial.suggest_float` instead.\n",
      "  'learning_rate': trial.suggest_loguniform('learning_rate', 0.001, 1),\n",
      "\u001b[32m[I 2023-04-27 01:47:50,857]\u001b[0m Trial 33 finished with value: 29.50373785679613 and parameters: {'n_estimators': 800, 'learning_rate': 0.018539731343505835, 'max_depth': 9, 'min_samples_split': 9, 'min_samples_leaf': 1}. Best is trial 31 with value: 29.240681961297156.\u001b[0m\n",
      "C:\\Users\\kevin\\AppData\\Local\\Temp\\ipykernel_38256\\284204161.py:10: FutureWarning: suggest_loguniform has been deprecated in v3.0.0. This feature will be removed in v6.0.0. See https://github.com/optuna/optuna/releases/tag/v3.0.0. Use :func:`~optuna.trial.Trial.suggest_float` instead.\n",
      "  'learning_rate': trial.suggest_loguniform('learning_rate', 0.001, 1),\n",
      "\u001b[32m[I 2023-04-27 01:48:51,645]\u001b[0m Trial 34 finished with value: 29.701343628455366 and parameters: {'n_estimators': 700, 'learning_rate': 0.10308490788781348, 'max_depth': 10, 'min_samples_split': 9, 'min_samples_leaf': 1}. Best is trial 31 with value: 29.240681961297156.\u001b[0m\n",
      "C:\\Users\\kevin\\AppData\\Local\\Temp\\ipykernel_38256\\284204161.py:10: FutureWarning: suggest_loguniform has been deprecated in v3.0.0. This feature will be removed in v6.0.0. See https://github.com/optuna/optuna/releases/tag/v3.0.0. Use :func:`~optuna.trial.Trial.suggest_float` instead.\n",
      "  'learning_rate': trial.suggest_loguniform('learning_rate', 0.001, 1),\n",
      "\u001b[32m[I 2023-04-27 01:49:57,358]\u001b[0m Trial 35 finished with value: 29.264054622077538 and parameters: {'n_estimators': 800, 'learning_rate': 0.047006398179099546, 'max_depth': 9, 'min_samples_split': 7, 'min_samples_leaf': 2}. Best is trial 31 with value: 29.240681961297156.\u001b[0m\n",
      "C:\\Users\\kevin\\AppData\\Local\\Temp\\ipykernel_38256\\284204161.py:10: FutureWarning: suggest_loguniform has been deprecated in v3.0.0. This feature will be removed in v6.0.0. See https://github.com/optuna/optuna/releases/tag/v3.0.0. Use :func:`~optuna.trial.Trial.suggest_float` instead.\n",
      "  'learning_rate': trial.suggest_loguniform('learning_rate', 0.001, 1),\n",
      "\u001b[32m[I 2023-04-27 01:50:45,680]\u001b[0m Trial 36 finished with value: 29.429092151708165 and parameters: {'n_estimators': 600, 'learning_rate': 0.021615055613156152, 'max_depth': 9, 'min_samples_split': 4, 'min_samples_leaf': 2}. Best is trial 31 with value: 29.240681961297156.\u001b[0m\n",
      "C:\\Users\\kevin\\AppData\\Local\\Temp\\ipykernel_38256\\284204161.py:10: FutureWarning: suggest_loguniform has been deprecated in v3.0.0. This feature will be removed in v6.0.0. See https://github.com/optuna/optuna/releases/tag/v3.0.0. Use :func:`~optuna.trial.Trial.suggest_float` instead.\n",
      "  'learning_rate': trial.suggest_loguniform('learning_rate', 0.001, 1),\n",
      "\u001b[32m[I 2023-04-27 01:51:35,424]\u001b[0m Trial 37 finished with value: 30.028594029993737 and parameters: {'n_estimators': 800, 'learning_rate': 0.04197440861608752, 'max_depth': 7, 'min_samples_split': 10, 'min_samples_leaf': 3}. Best is trial 31 with value: 29.240681961297156.\u001b[0m\n",
      "C:\\Users\\kevin\\AppData\\Local\\Temp\\ipykernel_38256\\284204161.py:10: FutureWarning: suggest_loguniform has been deprecated in v3.0.0. This feature will be removed in v6.0.0. See https://github.com/optuna/optuna/releases/tag/v3.0.0. Use :func:`~optuna.trial.Trial.suggest_float` instead.\n",
      "  'learning_rate': trial.suggest_loguniform('learning_rate', 0.001, 1),\n",
      "\u001b[32m[I 2023-04-27 01:52:45,724]\u001b[0m Trial 38 finished with value: 29.689937749332618 and parameters: {'n_estimators': 900, 'learning_rate': 0.04967069810198561, 'max_depth': 9, 'min_samples_split': 13, 'min_samples_leaf': 2}. Best is trial 31 with value: 29.240681961297156.\u001b[0m\n",
      "C:\\Users\\kevin\\AppData\\Local\\Temp\\ipykernel_38256\\284204161.py:10: FutureWarning: suggest_loguniform has been deprecated in v3.0.0. This feature will be removed in v6.0.0. See https://github.com/optuna/optuna/releases/tag/v3.0.0. Use :func:`~optuna.trial.Trial.suggest_float` instead.\n",
      "  'learning_rate': trial.suggest_loguniform('learning_rate', 0.001, 1),\n",
      "\u001b[32m[I 2023-04-27 01:53:22,158]\u001b[0m Trial 39 finished with value: 31.255648121634312 and parameters: {'n_estimators': 700, 'learning_rate': 0.013129914284131917, 'max_depth': 6, 'min_samples_split': 2, 'min_samples_leaf': 3}. Best is trial 31 with value: 29.240681961297156.\u001b[0m\n",
      " 80%|████████  | 4/5 [58:23<16:17, 978.00s/it] C:\\Users\\kevin\\AppData\\Local\\Temp\\ipykernel_38256\\284204161.py:10: FutureWarning: suggest_loguniform has been deprecated in v3.0.0. This feature will be removed in v6.0.0. See https://github.com/optuna/optuna/releases/tag/v3.0.0. Use :func:`~optuna.trial.Trial.suggest_float` instead.\n",
      "  'learning_rate': trial.suggest_loguniform('learning_rate', 0.001, 1),\n",
      "\u001b[32m[I 2023-04-27 01:53:56,408]\u001b[0m Trial 40 finished with value: 29.580735000438487 and parameters: {'n_estimators': 400, 'learning_rate': 0.022710709682949273, 'max_depth': 10, 'min_samples_split': 8, 'min_samples_leaf': 1}. Best is trial 31 with value: 29.240681961297156.\u001b[0m\n",
      "C:\\Users\\kevin\\AppData\\Local\\Temp\\ipykernel_38256\\284204161.py:10: FutureWarning: suggest_loguniform has been deprecated in v3.0.0. This feature will be removed in v6.0.0. See https://github.com/optuna/optuna/releases/tag/v3.0.0. Use :func:`~optuna.trial.Trial.suggest_float` instead.\n",
      "  'learning_rate': trial.suggest_loguniform('learning_rate', 0.001, 1),\n",
      "\u001b[32m[I 2023-04-27 01:54:42,478]\u001b[0m Trial 41 finished with value: 29.62050017410939 and parameters: {'n_estimators': 600, 'learning_rate': 0.022269171889647374, 'max_depth': 9, 'min_samples_split': 6, 'min_samples_leaf': 2}. Best is trial 31 with value: 29.240681961297156.\u001b[0m\n",
      "C:\\Users\\kevin\\AppData\\Local\\Temp\\ipykernel_38256\\284204161.py:10: FutureWarning: suggest_loguniform has been deprecated in v3.0.0. This feature will be removed in v6.0.0. See https://github.com/optuna/optuna/releases/tag/v3.0.0. Use :func:`~optuna.trial.Trial.suggest_float` instead.\n",
      "  'learning_rate': trial.suggest_loguniform('learning_rate', 0.001, 1),\n",
      "\u001b[32m[I 2023-04-27 01:55:21,168]\u001b[0m Trial 42 finished with value: 29.21785750681201 and parameters: {'n_estimators': 500, 'learning_rate': 0.03857836994558323, 'max_depth': 9, 'min_samples_split': 4, 'min_samples_leaf': 2}. Best is trial 42 with value: 29.21785750681201.\u001b[0m\n",
      "C:\\Users\\kevin\\AppData\\Local\\Temp\\ipykernel_38256\\284204161.py:10: FutureWarning: suggest_loguniform has been deprecated in v3.0.0. This feature will be removed in v6.0.0. See https://github.com/optuna/optuna/releases/tag/v3.0.0. Use :func:`~optuna.trial.Trial.suggest_float` instead.\n",
      "  'learning_rate': trial.suggest_loguniform('learning_rate', 0.001, 1),\n",
      "\u001b[32m[I 2023-04-27 01:55:41,636]\u001b[0m Trial 43 finished with value: 30.018351233829957 and parameters: {'n_estimators': 300, 'learning_rate': 0.0383398569890001, 'max_depth': 8, 'min_samples_split': 3, 'min_samples_leaf': 2}. Best is trial 42 with value: 29.21785750681201.\u001b[0m\n",
      "C:\\Users\\kevin\\AppData\\Local\\Temp\\ipykernel_38256\\284204161.py:10: FutureWarning: suggest_loguniform has been deprecated in v3.0.0. This feature will be removed in v6.0.0. See https://github.com/optuna/optuna/releases/tag/v3.0.0. Use :func:`~optuna.trial.Trial.suggest_float` instead.\n",
      "  'learning_rate': trial.suggest_loguniform('learning_rate', 0.001, 1),\n",
      "\u001b[32m[I 2023-04-27 01:56:21,106]\u001b[0m Trial 44 finished with value: 29.02017874101849 and parameters: {'n_estimators': 500, 'learning_rate': 0.07114494530617727, 'max_depth': 9, 'min_samples_split': 4, 'min_samples_leaf': 1}. Best is trial 44 with value: 29.02017874101849.\u001b[0m\n",
      "C:\\Users\\kevin\\AppData\\Local\\Temp\\ipykernel_38256\\284204161.py:10: FutureWarning: suggest_loguniform has been deprecated in v3.0.0. This feature will be removed in v6.0.0. See https://github.com/optuna/optuna/releases/tag/v3.0.0. Use :func:`~optuna.trial.Trial.suggest_float` instead.\n",
      "  'learning_rate': trial.suggest_loguniform('learning_rate', 0.001, 1),\n",
      "\u001b[32m[I 2023-04-27 01:57:15,866]\u001b[0m Trial 45 finished with value: 29.540307439108343 and parameters: {'n_estimators': 500, 'learning_rate': 0.06732216385511708, 'max_depth': 9, 'min_samples_split': 4, 'min_samples_leaf': 3}. Best is trial 44 with value: 29.02017874101849.\u001b[0m\n",
      "C:\\Users\\kevin\\AppData\\Local\\Temp\\ipykernel_38256\\284204161.py:10: FutureWarning: suggest_loguniform has been deprecated in v3.0.0. This feature will be removed in v6.0.0. See https://github.com/optuna/optuna/releases/tag/v3.0.0. Use :func:`~optuna.trial.Trial.suggest_float` instead.\n",
      "  'learning_rate': trial.suggest_loguniform('learning_rate', 0.001, 1),\n",
      "\u001b[32m[I 2023-04-27 01:58:00,487]\u001b[0m Trial 46 finished with value: 29.967499068167545 and parameters: {'n_estimators': 400, 'learning_rate': 0.05012466975670612, 'max_depth': 7, 'min_samples_split': 3, 'min_samples_leaf': 1}. Best is trial 44 with value: 29.02017874101849.\u001b[0m\n",
      "C:\\Users\\kevin\\AppData\\Local\\Temp\\ipykernel_38256\\284204161.py:10: FutureWarning: suggest_loguniform has been deprecated in v3.0.0. This feature will be removed in v6.0.0. See https://github.com/optuna/optuna/releases/tag/v3.0.0. Use :func:`~optuna.trial.Trial.suggest_float` instead.\n",
      "  'learning_rate': trial.suggest_loguniform('learning_rate', 0.001, 1),\n",
      "\u001b[32m[I 2023-04-27 01:58:56,652]\u001b[0m Trial 47 finished with value: 30.151332339517165 and parameters: {'n_estimators': 500, 'learning_rate': 0.028202918976072248, 'max_depth': 8, 'min_samples_split': 2, 'min_samples_leaf': 4}. Best is trial 44 with value: 29.02017874101849.\u001b[0m\n",
      "C:\\Users\\kevin\\AppData\\Local\\Temp\\ipykernel_38256\\284204161.py:10: FutureWarning: suggest_loguniform has been deprecated in v3.0.0. This feature will be removed in v6.0.0. See https://github.com/optuna/optuna/releases/tag/v3.0.0. Use :func:`~optuna.trial.Trial.suggest_float` instead.\n",
      "  'learning_rate': trial.suggest_loguniform('learning_rate', 0.001, 1),\n",
      "\u001b[32m[I 2023-04-27 01:59:45,450]\u001b[0m Trial 48 finished with value: 29.73228756379284 and parameters: {'n_estimators': 300, 'learning_rate': 0.0649458771895741, 'max_depth': 9, 'min_samples_split': 16, 'min_samples_leaf': 2}. Best is trial 44 with value: 29.02017874101849.\u001b[0m\n",
      "C:\\Users\\kevin\\AppData\\Local\\Temp\\ipykernel_38256\\284204161.py:10: FutureWarning: suggest_loguniform has been deprecated in v3.0.0. This feature will be removed in v6.0.0. See https://github.com/optuna/optuna/releases/tag/v3.0.0. Use :func:`~optuna.trial.Trial.suggest_float` instead.\n",
      "  'learning_rate': trial.suggest_loguniform('learning_rate', 0.001, 1),\n",
      "\u001b[32m[I 2023-04-27 02:00:39,095]\u001b[0m Trial 49 finished with value: 31.50940848097083 and parameters: {'n_estimators': 600, 'learning_rate': 0.01706233342488338, 'max_depth': 5, 'min_samples_split': 5, 'min_samples_leaf': 1}. Best is trial 44 with value: 29.02017874101849.\u001b[0m\n",
      "100%|██████████| 5/5 [1:05:40<00:00, 788.02s/it]\n"
     ]
    }
   ],
   "source": [
    "study = optuna.create_study(direction='minimize')\n",
    "with tqdm(total=5) as pbar:\n",
    "    for i in range(5):\n",
    "        study.optimize(objective, n_trials=10)\n",
    "        pbar.update(1)"
   ]
  },
  {
   "cell_type": "code",
   "execution_count": 304,
   "metadata": {},
   "outputs": [
    {
     "data": {
      "text/plain": [
       "<optuna.study.study.Study at 0x1d215c8c940>"
      ]
     },
     "execution_count": 304,
     "metadata": {},
     "output_type": "execute_result"
    }
   ],
   "source": []
  },
  {
   "cell_type": "code",
   "execution_count": 308,
   "metadata": {},
   "outputs": [
    {
     "name": "stdout",
     "output_type": "stream",
     "text": [
      "Best parameters: {'n_estimators': 500, 'learning_rate': 0.07114494530617727, 'max_depth': 9, 'min_samples_split': 4, 'min_samples_leaf': 1}\n"
     ]
    }
   ],
   "source": [
    "# Print the best hyperparameters\n",
    "best_params = study.best_params\n",
    "print(f\"Best parameters: {best_params}\")"
   ]
  },
  {
   "cell_type": "code",
   "execution_count": 309,
   "metadata": {},
   "outputs": [
    {
     "name": "stdout",
     "output_type": "stream",
     "text": [
      "MAE: 24.787102328266247\n",
      "MSE: 1851.3464111078852\n",
      "R2: 0.8010757831097923\n"
     ]
    }
   ],
   "source": [
    "final_price_df = price_df\n",
    "from sklearn.model_selection import train_test_split\n",
    "X_train, X_test, y_train, y_test = train_test_split(final_price_df.drop(columns=['payment_value']),final_price_df.payment_value, test_size=0.20,  random_state=42)\n",
    "\n",
    "\n",
    "# Fit the model with the best hyperparameters to the full training set\n",
    "model = GradientBoostingRegressor(**best_params)\n",
    "model.fit(X_train, y_train)\n",
    "\n",
    "# Evaluate the model on the test set\n",
    "y_pred = model.predict(X_test)\n",
    "mae = mean_absolute_error(y_test, y_pred)\n",
    "mse = mean_squared_error(y_test, y_pred)\n",
    "r2 = r2_score(y_test, y_pred)\n",
    "\n",
    "# Print the metrics\n",
    "print('MAE:', mae)\n",
    "print('MSE:', mse)\n",
    "print('R2:', r2)"
   ]
  },
  {
   "cell_type": "code",
   "execution_count": 312,
   "metadata": {},
   "outputs": [
    {
     "ename": "TypeError",
     "evalue": "scatter() missing 1 required positional argument: 'y'",
     "output_type": "error",
     "traceback": [
      "\u001b[1;31m---------------------------------------------------------------------------\u001b[0m",
      "\u001b[1;31mTypeError\u001b[0m                                 Traceback (most recent call last)",
      "Cell \u001b[1;32mIn[312], line 5\u001b[0m\n\u001b[0;32m      2\u001b[0m \u001b[39mimport\u001b[39;00m \u001b[39mmatplotlib\u001b[39;00m\u001b[39m.\u001b[39;00m\u001b[39mpyplot\u001b[39;00m \u001b[39mas\u001b[39;00m \u001b[39mplt\u001b[39;00m\n\u001b[0;32m      4\u001b[0m \u001b[39m# Assume y_test and y_pred are the actual and predicted values for test data\u001b[39;00m\n\u001b[1;32m----> 5\u001b[0m plt\u001b[39m.\u001b[39;49mscatter(y_test, label\u001b[39m=\u001b[39;49m\u001b[39m'\u001b[39;49m\u001b[39mActual\u001b[39;49m\u001b[39m'\u001b[39;49m)\n\u001b[0;32m      6\u001b[0m plt\u001b[39m.\u001b[39mplot(y_pred, label\u001b[39m=\u001b[39m\u001b[39m'\u001b[39m\u001b[39mPredicted\u001b[39m\u001b[39m'\u001b[39m)\n\u001b[0;32m      7\u001b[0m plt\u001b[39m.\u001b[39mlegend()\n",
      "\u001b[1;31mTypeError\u001b[0m: scatter() missing 1 required positional argument: 'y'"
     ]
    }
   ],
   "source": [
    "######################################\n",
    "import matplotlib.pyplot as plt\n",
    "\n",
    "# Assume y_test and y_pred are the actual and predicted values for test data\n",
    "plt.scatter(y_test, label='Actual')\n",
    "plt.plot(y_pred, label='Predicted')\n",
    "plt.legend()\n",
    "plt.show()"
   ]
  },
  {
   "cell_type": "code",
   "execution_count": 279,
   "metadata": {},
   "outputs": [
    {
     "data": {
      "image/png": "[encoded data removed]",
      "text/plain": [
       "<Figure size 432x288 with 1 Axes>"
      ]
     },
     "metadata": {
      "needs_background": "light"
     },
     "output_type": "display_data"
    }
   ],
   "source": [
    "import matplotlib.pyplot as plt\n",
    "\n",
    "# Plot a histogram of the payment values\n",
    "plt.hist(price_df['payment_value'], bins=100)\n",
    "plt.title('Histogram of Payment Values')\n",
    "plt.xlabel('Payment Value')\n",
    "plt.ylabel('Count')\n",
    "plt.xlim(0, 1900)\n",
    "plt.show()"
   ]
  },
  {
   "cell_type": "code",
   "execution_count": 297,
   "metadata": {},
   "outputs": [
    {
     "data": {
      "text/plain": [
       "<AxesSubplot:xlabel='payment_value', ylabel='Count'>"
      ]
     },
     "execution_count": 297,
     "metadata": {},
     "output_type": "execute_result"
    },
    {
     "data": {
      "image/png": "[encoded data removed]",
      "text/plain": [
       "<Figure size 432x288 with 1 Axes>"
      ]
     },
     "metadata": {
      "needs_background": "light"
     },
     "output_type": "display_data"
    }
   ],
   "source": [
    "## now removing the outlier\n",
    "\n",
    "sns.histplot(price_df['payment_value'])\n"
   ]
  },
  {
   "cell_type": "code",
   "execution_count": 299,
   "metadata": {},
   "outputs": [
    {
     "data": {
      "text/plain": [
       "<AxesSubplot:xlabel='payment_value', ylabel='Count'>"
      ]
     },
     "execution_count": 299,
     "metadata": {},
     "output_type": "execute_result"
    },
    {
     "data": {
      "image/png": "[encoded data removed]",
      "text/plain": [
       "<Figure size 432x288 with 1 Axes>"
      ]
     },
     "metadata": {
      "needs_background": "light"
     },
     "output_type": "display_data"
    }
   ],
   "source": [
    "sns.histplot(merged_2['payment_value'])"
   ]
  },
  {
   "cell_type": "code",
   "execution_count": 305,
   "metadata": {},
   "outputs": [
    {
     "name": "stderr",
     "output_type": "stream",
     "text": [
      "\u001b[32m[I 2023-04-27 03:22:08,328]\u001b[0m A new study created in memory with name: no-name-61849c79-398d-4f13-a0d5-f011f690ee41\u001b[0m\n"
     ]
    }
   ],
   "source": [
    "import optuna\n",
    "from sklearn.ensemble import RandomForestRegressor\n",
    "from sklearn.metrics import mean_absolute_error\n",
    "\n",
    "# Define the objective function for Optuna to optimize\n",
    "def objective_rf(trial):\n",
    "    # Define the hyperparameters to optimize\n",
    "    params = {\n",
    "        'n_estimators': trial.suggest_int('n_estimators', 100, 1000, 100),\n",
    "        'max_depth': trial.suggest_int('max_depth', 3, 10),\n",
    "        'min_samples_split': trial.suggest_int('min_samples_split', 2, 20),\n",
    "        'min_samples_leaf': trial.suggest_int('min_samples_leaf', 1, 10)\n",
    "    }\n",
    "    \n",
    "    # Create the model with the given hyperparameters\n",
    "    model = RandomForestRegressor(**params)\n",
    "    \n",
    "    # Train the model and make predictions\n",
    "    model.fit(X_train, y_train)\n",
    "    y_pred = model.predict(X_test)\n",
    "    \n",
    "    # Compute the mean absolute error on the test set\n",
    "    mae = mean_absolute_error(y_test, y_pred)\n",
    "    \n",
    "    return mae\n",
    "\n",
    "# Create a study to optimize the objective function\n",
    "study_rf = optuna.create_study(direction='minimize')\n",
    "\n"
   ]
  },
  {
   "cell_type": "code",
   "execution_count": 306,
   "metadata": {},
   "outputs": [
    {
     "name": "stderr",
     "output_type": "stream",
     "text": [
      "  0%|          | 0/5 [00:00<?, ?it/s]\u001b[32m[I 2023-04-27 03:25:27,403]\u001b[0m Trial 0 finished with value: 31.399057789761148 and parameters: {'n_estimators': 800, 'max_depth': 10, 'min_samples_split': 17, 'min_samples_leaf': 1}. Best is trial 0 with value: 31.399057789761148.\u001b[0m\n",
      "\u001b[32m[I 2023-04-27 03:25:37,326]\u001b[0m Trial 1 finished with value: 34.356925623396045 and parameters: {'n_estimators': 100, 'max_depth': 6, 'min_samples_split': 6, 'min_samples_leaf': 1}. Best is trial 0 with value: 31.399057789761148.\u001b[0m\n",
      "\u001b[32m[I 2023-04-27 03:27:07,235]\u001b[0m Trial 2 finished with value: 31.974458220612004 and parameters: {'n_estimators': 600, 'max_depth': 9, 'min_samples_split': 14, 'min_samples_leaf': 1}. Best is trial 0 with value: 31.399057789761148.\u001b[0m\n",
      "\u001b[32m[I 2023-04-27 03:27:27,758]\u001b[0m Trial 3 finished with value: 37.72271233842824 and parameters: {'n_estimators': 300, 'max_depth': 4, 'min_samples_split': 8, 'min_samples_leaf': 5}. Best is trial 0 with value: 31.399057789761148.\u001b[0m\n",
      "\u001b[32m[I 2023-04-27 03:29:48,588]\u001b[0m Trial 4 finished with value: 32.69725879078199 and parameters: {'n_estimators': 1000, 'max_depth': 8, 'min_samples_split': 17, 'min_samples_leaf': 8}. Best is trial 0 with value: 31.399057789761148.\u001b[0m\n",
      " 20%|██        | 1/5 [07:02<28:08, 422.02s/it]\u001b[32m[I 2023-04-27 03:31:00,448]\u001b[0m Trial 5 finished with value: 34.30517244885089 and parameters: {'n_estimators': 700, 'max_depth': 6, 'min_samples_split': 7, 'min_samples_leaf': 4}. Best is trial 0 with value: 31.399057789761148.\u001b[0m\n",
      "\u001b[32m[I 2023-04-27 03:32:22,008]\u001b[0m Trial 6 finished with value: 32.69933031357962 and parameters: {'n_estimators': 600, 'max_depth': 8, 'min_samples_split': 16, 'min_samples_leaf': 9}. Best is trial 0 with value: 31.399057789761148.\u001b[0m\n",
      "\u001b[32m[I 2023-04-27 03:33:44,807]\u001b[0m Trial 7 finished with value: 31.9827643883779 and parameters: {'n_estimators': 500, 'max_depth': 9, 'min_samples_split': 3, 'min_samples_leaf': 8}. Best is trial 0 with value: 31.399057789761148.\u001b[0m\n",
      "\u001b[32m[I 2023-04-27 03:36:06,545]\u001b[0m Trial 8 finished with value: 31.308036933740482 and parameters: {'n_estimators': 400, 'max_depth': 10, 'min_samples_split': 11, 'min_samples_leaf': 5}. Best is trial 8 with value: 31.308036933740482.\u001b[0m\n",
      "\u001b[32m[I 2023-04-27 03:37:23,505]\u001b[0m Trial 9 finished with value: 33.43834815579049 and parameters: {'n_estimators': 300, 'max_depth': 7, 'min_samples_split': 16, 'min_samples_leaf': 9}. Best is trial 8 with value: 31.308036933740482.\u001b[0m\n",
      " 40%|████      | 2/5 [14:36<22:04, 441.37s/it]\u001b[32m[I 2023-04-27 03:37:39,865]\u001b[0m Trial 10 finished with value: 40.29726173644786 and parameters: {'n_estimators': 300, 'max_depth': 3, 'min_samples_split': 11, 'min_samples_leaf': 4}. Best is trial 8 with value: 31.308036933740482.\u001b[0m\n",
      "\u001b[32m[I 2023-04-27 03:40:15,793]\u001b[0m Trial 11 finished with value: 31.391592735802057 and parameters: {'n_estimators': 900, 'max_depth': 10, 'min_samples_split': 20, 'min_samples_leaf': 3}. Best is trial 8 with value: 31.308036933740482.\u001b[0m\n",
      "\u001b[32m[I 2023-04-27 03:43:03,013]\u001b[0m Trial 12 finished with value: 31.399445653433254 and parameters: {'n_estimators': 1000, 'max_depth': 10, 'min_samples_split': 20, 'min_samples_leaf': 3}. Best is trial 8 with value: 31.308036933740482.\u001b[0m\n",
      "\u001b[32m[I 2023-04-27 03:45:09,503]\u001b[0m Trial 13 finished with value: 31.316203493944368 and parameters: {'n_estimators': 800, 'max_depth': 10, 'min_samples_split': 11, 'min_samples_leaf': 6}. Best is trial 8 with value: 31.308036933740482.\u001b[0m\n",
      "\u001b[32m[I 2023-04-27 03:46:35,172]\u001b[0m Trial 14 finished with value: 32.68399966047173 and parameters: {'n_estimators': 500, 'max_depth': 8, 'min_samples_split': 11, 'min_samples_leaf': 6}. Best is trial 8 with value: 31.308036933740482.\u001b[0m\n",
      " 60%|██████    | 3/5 [23:48<16:23, 491.74s/it]\u001b[32m[I 2023-04-27 03:47:46,150]\u001b[0m Trial 15 finished with value: 35.55854007663473 and parameters: {'n_estimators': 800, 'max_depth': 5, 'min_samples_split': 9, 'min_samples_leaf': 6}. Best is trial 8 with value: 31.308036933740482.\u001b[0m\n",
      "\u001b[32m[I 2023-04-27 03:48:49,707]\u001b[0m Trial 16 finished with value: 31.948266851521893 and parameters: {'n_estimators': 400, 'max_depth': 9, 'min_samples_split': 14, 'min_samples_leaf': 7}. Best is trial 8 with value: 31.308036933740482.\u001b[0m\n",
      "\u001b[32m[I 2023-04-27 03:49:00,482]\u001b[0m Trial 17 finished with value: 33.44588409195744 and parameters: {'n_estimators': 100, 'max_depth': 7, 'min_samples_split': 4, 'min_samples_leaf': 5}. Best is trial 8 with value: 31.308036933740482.\u001b[0m\n",
      "\u001b[32m[I 2023-04-27 03:50:49,567]\u001b[0m Trial 18 finished with value: 31.433898921424205 and parameters: {'n_estimators': 700, 'max_depth': 10, 'min_samples_split': 13, 'min_samples_leaf': 10}. Best is trial 8 with value: 31.308036933740482.\u001b[0m\n",
      "\u001b[32m[I 2023-04-27 03:51:52,789]\u001b[0m Trial 19 finished with value: 31.95657731164082 and parameters: {'n_estimators': 400, 'max_depth': 9, 'min_samples_split': 10, 'min_samples_leaf': 7}. Best is trial 8 with value: 31.308036933740482.\u001b[0m\n",
      " 80%|████████  | 4/5 [29:06<07:02, 423.00s/it]\u001b[32m[I 2023-04-27 03:53:39,812]\u001b[0m Trial 20 finished with value: 32.711657121161295 and parameters: {'n_estimators': 800, 'max_depth': 8, 'min_samples_split': 13, 'min_samples_leaf': 3}. Best is trial 8 with value: 31.308036933740482.\u001b[0m\n",
      "\u001b[32m[I 2023-04-27 03:56:19,495]\u001b[0m Trial 21 finished with value: 31.391800914088382 and parameters: {'n_estimators': 900, 'max_depth': 10, 'min_samples_split': 20, 'min_samples_leaf': 3}. Best is trial 8 with value: 31.308036933740482.\u001b[0m\n",
      "\u001b[32m[I 2023-04-27 03:58:45,073]\u001b[0m Trial 22 finished with value: 31.305518531880036 and parameters: {'n_estimators': 900, 'max_depth': 10, 'min_samples_split': 12, 'min_samples_leaf': 4}. Best is trial 22 with value: 31.305518531880036.\u001b[0m\n",
      "\u001b[32m[I 2023-04-27 04:02:27,564]\u001b[0m Trial 23 finished with value: 31.9354763177979 and parameters: {'n_estimators': 900, 'max_depth': 9, 'min_samples_split': 12, 'min_samples_leaf': 4}. Best is trial 22 with value: 31.305518531880036.\u001b[0m\n",
      "\u001b[32m[I 2023-04-27 04:05:56,424]\u001b[0m Trial 24 finished with value: 31.289898410666556 and parameters: {'n_estimators': 700, 'max_depth': 10, 'min_samples_split': 9, 'min_samples_leaf': 5}. Best is trial 24 with value: 31.289898410666556.\u001b[0m\n",
      "100%|██████████| 5/5 [43:09<00:00, 517.97s/it]\n"
     ]
    }
   ],
   "source": [
    "\n",
    "with tqdm(total=5) as pbar:\n",
    "    for i in range(5):\n",
    "        study_rf.optimize(objective_rf, n_trials=5)\n",
    "        pbar.update(1)"
   ]
  },
  {
   "cell_type": "code",
   "execution_count": 313,
   "metadata": {},
   "outputs": [
    {
     "name": "stdout",
     "output_type": "stream",
     "text": [
      "Best parameters: {'n_estimators': 700, 'max_depth': 10, 'min_samples_split': 9, 'min_samples_leaf': 5}\n"
     ]
    }
   ],
   "source": [
    "# Print the best hyperparameters\n",
    "best_params_rf = study_rf.best_params\n",
    "print(f\"Best parameters: {best_params_rf}\")"
   ]
  },
  {
   "cell_type": "code",
   "execution_count": 311,
   "metadata": {},
   "outputs": [
    {
     "name": "stdout",
     "output_type": "stream",
     "text": [
      "MAE: 23.15630916628777\n",
      "MSE: 1643.3590476779461\n",
      "R2: 0.8234236933361668\n"
     ]
    }
   ],
   "source": [
    "final_price_df = price_df\n",
    "from sklearn.model_selection import train_test_split\n",
    "X_train, X_test, y_train, y_test = train_test_split(final_price_df.drop(columns=['payment_value']),final_price_df.payment_value, test_size=0.20,  random_state=42)\n",
    "\n",
    "\n",
    "# Fit the model with the best hyperparameters to the full training set\n",
    "model = GradientBoostingRegressor(**best_params_rf)\n",
    "model.fit(X_train, y_train)\n",
    "\n",
    "# Evaluate the model on the test set\n",
    "y_pred = model.predict(X_test)\n",
    "mae = mean_absolute_error(y_test, y_pred)\n",
    "mse = mean_squared_error(y_test, y_pred)\n",
    "r2 = r2_score(y_test, y_pred)\n",
    "\n",
    "# Print the metrics\n",
    "print('MAE:', mae)\n",
    "print('MSE:', mse)\n",
    "print('R2:', r2)"
   ]
  }
 ],
 "metadata": {
  "kernelspec": {
   "display_name": "base",
   "language": "python",
   "name": "python3"
  },
  "language_info": {
   "codemirror_mode": {
    "name": "ipython",
    "version": 3
   },
   "file_extension": ".py",
   "mimetype": "text/x-python",
   "name": "python",
   "nbconvert_exporter": "python",
   "pygments_lexer": "ipython3",
   "version": "3.9.12"
  },
  "orig_nbformat": 4
 },
 "nbformat": 4,
 "nbformat_minor": 2
}
